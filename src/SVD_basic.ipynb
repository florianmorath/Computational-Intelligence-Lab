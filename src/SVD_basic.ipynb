{
 "cells": [
  {
   "cell_type": "markdown",
   "metadata": {},
   "source": [
    "# SVD basic"
   ]
  },
  {
   "cell_type": "markdown",
   "metadata": {},
   "source": [
    "Idea: Assume the data has an underlying structure where each user and each item has a representation in the same concept space. Can use baseline solution (approximated matrix X_pred) as an initialization for SVD. By discarding small singular values can remove noise and approximate X_true. "
   ]
  },
  {
   "cell_type": "code",
   "execution_count": 9,
   "metadata": {},
   "outputs": [],
   "source": [
    "%matplotlib inline\n",
    "\n",
    "import numpy as np\n",
    "import matplotlib\n",
    "import matplotlib.pyplot as plt\n",
    "\n",
    "from helpers import load_data, write_submission_file"
   ]
  },
  {
   "cell_type": "markdown",
   "metadata": {},
   "source": [
    "## Load training data"
   ]
  },
  {
   "cell_type": "code",
   "execution_count": 2,
   "metadata": {},
   "outputs": [
    {
     "name": "stdout",
     "output_type": "stream",
     "text": [
      "[[0. 0. 0. 0. 0. 0. 0. 0. 0. 5.]\n",
      " [0. 0. 0. 3. 0. 5. 0. 4. 0. 0.]\n",
      " [0. 0. 0. 2. 0. 0. 0. 0. 0. 0.]\n",
      " [0. 0. 0. 0. 0. 0. 0. 0. 0. 0.]\n",
      " [0. 2. 0. 0. 0. 5. 0. 3. 0. 0.]\n",
      " [0. 0. 0. 0. 0. 5. 0. 0. 0. 0.]\n",
      " [0. 0. 0. 0. 0. 0. 0. 0. 0. 0.]\n",
      " [0. 0. 0. 0. 0. 0. 0. 0. 0. 0.]\n",
      " [0. 0. 0. 0. 0. 5. 0. 0. 0. 3.]\n",
      " [0. 0. 0. 1. 0. 5. 0. 5. 0. 0.]]\n"
     ]
    }
   ],
   "source": [
    "X = load_data()\n",
    "print(X[0:10,0:10])"
   ]
  },
  {
   "cell_type": "markdown",
   "metadata": {},
   "source": [
    "## Impute missing entries (average rating per user)"
   ]
  },
  {
   "cell_type": "code",
   "execution_count": 3,
   "metadata": {},
   "outputs": [
    {
     "name": "stdout",
     "output_type": "stream",
     "text": [
      "[[4.04347826 4.04347826 4.04347826 4.04347826 4.04347826 4.04347826\n",
      "  4.04347826 4.04347826 4.04347826 5.        ]\n",
      " [3.77181208 3.77181208 3.77181208 3.         3.77181208 5.\n",
      "  3.77181208 4.         3.77181208 3.77181208]\n",
      " [3.52325581 3.52325581 3.52325581 2.         3.52325581 3.52325581\n",
      "  3.52325581 3.52325581 3.52325581 3.52325581]\n",
      " [3.8        3.8        3.8        3.8        3.8        3.8\n",
      "  3.8        3.8        3.8        3.8       ]\n",
      " [3.98507463 2.         3.98507463 3.98507463 3.98507463 5.\n",
      "  3.98507463 3.         3.98507463 3.98507463]\n",
      " [4.36686391 4.36686391 4.36686391 4.36686391 4.36686391 5.\n",
      "  4.36686391 4.36686391 4.36686391 4.36686391]\n",
      " [4.12903226 4.12903226 4.12903226 4.12903226 4.12903226 4.12903226\n",
      "  4.12903226 4.12903226 4.12903226 4.12903226]\n",
      " [4.11538462 4.11538462 4.11538462 4.11538462 4.11538462 4.11538462\n",
      "  4.11538462 4.11538462 4.11538462 4.11538462]\n",
      " [3.97191011 3.97191011 3.97191011 3.97191011 3.97191011 5.\n",
      "  3.97191011 3.97191011 3.97191011 3.        ]\n",
      " [3.82242991 3.82242991 3.82242991 1.         3.82242991 5.\n",
      "  3.82242991 5.         3.82242991 3.82242991]]\n"
     ]
    }
   ],
   "source": [
    "y = X.sum(axis=1)\n",
    "rating_counts = np.count_nonzero(X, axis =1)\n",
    "average_per_user = y/rating_counts\n",
    "X_init = np.copy(X)\n",
    "for row in range(X.shape[0]):\n",
    "    no_rating = (X[row, :] == 0)\n",
    "    X_init[row, no_rating] = average_per_user[row]\n",
    "print(X_init[0:10, 0:10])\n"
   ]
  },
  {
   "cell_type": "markdown",
   "metadata": {},
   "source": [
    "## Singular Value Decomposition"
   ]
  },
  {
   "cell_type": "code",
   "execution_count": 5,
   "metadata": {},
   "outputs": [
    {
     "name": "stdout",
     "output_type": "stream",
     "text": [
      "(10000, 10000)\n",
      "(1000,)\n",
      "(1000, 1000)\n"
     ]
    }
   ],
   "source": [
    "U, d, Vt = np.linalg.svd(X_init, full_matrices=True)\n",
    "print(U.shape)\n",
    "print(d.shape)\n",
    "print(Vt.shape)\n",
    "D = np.zeros_like(X_init)\n",
    "D[:d.shape[0], :d.shape[0]] = np.diag(d)"
   ]
  },
  {
   "cell_type": "code",
   "execution_count": 8,
   "metadata": {},
   "outputs": [],
   "source": [
    "assert np.allclose(np.dot(U, np.dot(D, Vt)), X_init)"
   ]
  },
  {
   "cell_type": "code",
   "execution_count": 26,
   "metadata": {},
   "outputs": [
    {
     "name": "stdout",
     "output_type": "stream",
     "text": [
      "[12150.99490984   150.1691806     98.39707914    82.98542208\n",
      "    79.86171735    79.68578868    77.19077004    74.0177768\n",
      "    72.25882996    71.16727918    70.57179145    69.90965182\n",
      "    69.12010718    68.98402185    68.32132001    68.18400344\n",
      "    67.71638283    67.51535179    66.64476926    66.16722878\n",
      "    65.95780317    65.32226758    65.14423775    64.72297138\n",
      "    64.58497676    64.40576522    64.02703284    63.82955763\n",
      "    63.54102938    63.4629603     63.14573785    63.04975588\n",
      "    62.68436699    62.3787418     62.33113844    62.12670405\n",
      "    61.96315305    61.76188451    61.74365357    61.61284288\n",
      "    61.42090559    61.38553394    61.11665547    61.0696715\n",
      "    60.88483477    60.83545683    60.56002967    60.37644524\n",
      "    60.23462486    60.10575168    59.98494211    59.89308451\n",
      "    59.75341423    59.56386867    59.3855731     59.3310651\n",
      "    59.13393078    59.07160039    58.92395991    58.90812156\n",
      "    58.87989116    58.69594018    58.60372472    58.52507677\n",
      "    58.31078247    58.10291309    58.06119582    58.02149599\n",
      "    57.84549392    57.73282186    57.61750129    57.42776963\n",
      "    57.32948949    57.2094651     57.12999259    57.03295772\n",
      "    56.9540815     56.80529042    56.7050206     56.6215485\n",
      "    56.56011405    56.43908307    56.29594795    56.23242431\n",
      "    56.13937439    56.04740826    55.96249819    55.8735929\n",
      "    55.73284302    55.66779487    55.54900479    55.46383902\n",
      "    55.30495817    55.26175015    55.22072364    55.13711365\n",
      "    55.08332506    54.97477459    54.78306312    54.73083561]\n"
     ]
    },
    {
     "data": {
      "image/png": "[encoded data removed]",
      "text/plain": [
       "<Figure size 432x288 with 1 Axes>"
      ]
     },
     "metadata": {},
     "output_type": "display_data"
    }
   ],
   "source": [
    "# plot singular values\n",
    "k_plot = 100\n",
    "singular_range = range(1,k_plot,1)\n",
    "plt.plot(singular_range, d[1:k_plot]) # skip frist singular value for better visualization\n",
    "plt.xlabel(\"singular value index\")\n",
    "plt.ylabel(\"amplitude\")\n",
    "print(d[:100])"
   ]
  },
  {
   "cell_type": "code",
   "execution_count": 27,
   "metadata": {},
   "outputs": [],
   "source": [
    "# Reconstruct Matrix -> Approximation by removing small singular values\n",
    "k = 40\n",
    "U_prime = U[:,:k]\n",
    "D_prime = D[:k, :k]\n",
    "Vt_prime = Vt[:k, :]\n",
    "X_pred = np.dot(U_prime, np.dot(D_prime, Vt_prime))\n",
    "assert X_init.shape == X_pred.shape"
   ]
  },
  {
   "cell_type": "markdown",
   "metadata": {},
   "source": [
    "## Output submission file "
   ]
  },
  {
   "cell_type": "code",
   "execution_count": 31,
   "metadata": {},
   "outputs": [
    {
     "name": "stdout",
     "output_type": "stream",
     "text": [
      "Id,Prediction\n",
      "r37_c1,3.721333\n",
      "r73_c1,3.507170\n",
      "r156_c1,4.195115\n",
      "r160_c1,3.592263\n",
      "r248_c1,3.921606\n",
      "r25\n"
     ]
    }
   ],
   "source": [
    "output = write_submission_file(X_pred, \"submission_SVD_basic_0.csv\")\n",
    "print(output[0:100])"
   ]
  },
  {
   "cell_type": "code",
   "execution_count": null,
   "metadata": {},
   "outputs": [],
   "source": []
  }
 ],
 "metadata": {
  "kernelspec": {
   "display_name": "Python 3",
   "language": "python",
   "name": "python3"
  },
  "language_info": {
   "codemirror_mode": {
    "name": "ipython",
    "version": 3
   },
   "file_extension": ".py",
   "mimetype": "text/x-python",
   "name": "python",
   "nbconvert_exporter": "python",
   "pygments_lexer": "ipython3",
   "version": "3.6.5"
  }
 },
 "nbformat": 4,
 "nbformat_minor": 2
}

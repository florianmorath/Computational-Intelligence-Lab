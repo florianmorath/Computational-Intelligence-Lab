{
 "cells": [
  {
   "cell_type": "markdown",
   "metadata": {},
   "source": [
    "## Average over users for each item\n",
    "Idea: impute missing values by taking average rating over users for each item\n"
   ]
  },
  {
   "cell_type": "code",
   "execution_count": 6,
   "metadata": {},
   "outputs": [],
   "source": [
    "import matplotlib\n",
    "import numpy as np\n",
    "import matplotlib.pyplot as plt\n",
    "\n",
    "from helpers import load_data, write_submission_file"
   ]
  },
  {
   "cell_type": "markdown",
   "metadata": {},
   "source": [
    "## Load training data"
   ]
  },
  {
   "cell_type": "code",
   "execution_count": 7,
   "metadata": {},
   "outputs": [
    {
     "name": "stdout",
     "output_type": "stream",
     "text": [
      "[[0. 0. 0. 0. 0. 0. 0. 0. 0. 5.]\n",
      " [0. 0. 0. 3. 0. 5. 0. 4. 0. 0.]\n",
      " [0. 0. 0. 2. 0. 0. 0. 0. 0. 0.]\n",
      " [0. 0. 0. 0. 0. 0. 0. 0. 0. 0.]\n",
      " [0. 2. 0. 0. 0. 5. 0. 3. 0. 0.]\n",
      " [0. 0. 0. 0. 0. 5. 0. 0. 0. 0.]\n",
      " [0. 0. 0. 0. 0. 0. 0. 0. 0. 0.]\n",
      " [0. 0. 0. 0. 0. 0. 0. 0. 0. 0.]\n",
      " [0. 0. 0. 0. 0. 5. 0. 0. 0. 3.]\n",
      " [0. 0. 0. 1. 0. 5. 0. 5. 0. 0.]]\n"
     ]
    }
   ],
   "source": [
    "X = load_data()\n",
    "print(X[0:10,0:10])"
   ]
  },
  {
   "cell_type": "markdown",
   "metadata": {},
   "source": [
    "## Impute missing entries (average rating per user)"
   ]
  },
  {
   "cell_type": "code",
   "execution_count": 8,
   "metadata": {},
   "outputs": [
    {
     "name": "stdout",
     "output_type": "stream",
     "text": [
      "[[4.04347826 4.04347826 4.04347826 4.04347826 4.04347826 4.04347826\n",
      "  4.04347826 4.04347826 4.04347826 5.        ]\n",
      " [3.77181208 3.77181208 3.77181208 3.         3.77181208 5.\n",
      "  3.77181208 4.         3.77181208 3.77181208]\n",
      " [3.52325581 3.52325581 3.52325581 2.         3.52325581 3.52325581\n",
      "  3.52325581 3.52325581 3.52325581 3.52325581]\n",
      " [3.8        3.8        3.8        3.8        3.8        3.8\n",
      "  3.8        3.8        3.8        3.8       ]\n",
      " [3.98507463 2.         3.98507463 3.98507463 3.98507463 5.\n",
      "  3.98507463 3.         3.98507463 3.98507463]\n",
      " [4.36686391 4.36686391 4.36686391 4.36686391 4.36686391 5.\n",
      "  4.36686391 4.36686391 4.36686391 4.36686391]\n",
      " [4.12903226 4.12903226 4.12903226 4.12903226 4.12903226 4.12903226\n",
      "  4.12903226 4.12903226 4.12903226 4.12903226]\n",
      " [4.11538462 4.11538462 4.11538462 4.11538462 4.11538462 4.11538462\n",
      "  4.11538462 4.11538462 4.11538462 4.11538462]\n",
      " [3.97191011 3.97191011 3.97191011 3.97191011 3.97191011 5.\n",
      "  3.97191011 3.97191011 3.97191011 3.        ]\n",
      " [3.82242991 3.82242991 3.82242991 1.         3.82242991 5.\n",
      "  3.82242991 5.         3.82242991 3.82242991]]\n"
     ]
    }
   ],
   "source": [
    "y = X.sum(axis=1)\n",
    "rating_counts = np.count_nonzero(X, axis =1)\n",
    "average_per_item = y/rating_counts\n",
    "X_pred = np.copy(X)\n",
    "for row in range(X.shape[0]):\n",
    "    no_rating = (X[row, :] == 0)\n",
    "    X_pred[row, no_rating] = average_per_item[row]\n",
    "print(X_pred[0:10, 0:10])\n"
   ]
  },
  {
   "cell_type": "markdown",
   "metadata": {},
   "source": [
    "## Output submission file "
   ]
  },
  {
   "cell_type": "code",
   "execution_count": 9,
   "metadata": {},
   "outputs": [
    {
     "name": "stdout",
     "output_type": "stream",
     "text": [
      "Id,Prediction\n",
      "r37_c1,3.757732\n",
      "r73_c1,3.540000\n",
      "r156_c1,4.230216\n",
      "r160_c1,3.692308\n",
      "r248_c1,3.928144\n",
      "r25\n"
     ]
    }
   ],
   "source": [
    "output = write_submission_file(X_pred, \"submission_average_over_users_0.csv\")\n",
    "print(output[0:100])"
   ]
  },
  {
   "cell_type": "code",
   "execution_count": null,
   "metadata": {},
   "outputs": [],
   "source": []
  }
 ],
 "metadata": {
  "kernelspec": {
   "display_name": "Python 3",
   "language": "python",
   "name": "python3"
  },
  "language_info": {
   "codemirror_mode": {
    "name": "ipython",
    "version": 3
   },
   "file_extension": ".py",
   "mimetype": "text/x-python",
   "name": "python",
   "nbconvert_exporter": "python",
   "pygments_lexer": "ipython3",
   "version": "3.5.2"
  }
 },
 "nbformat": 4,
 "nbformat_minor": 2
}

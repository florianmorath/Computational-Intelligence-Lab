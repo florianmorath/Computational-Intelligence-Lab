{
 "cells": [
  {
   "cell_type": "markdown",
   "metadata": {},
   "source": [
    "# Average over users for each item"
   ]
  },
  {
   "cell_type": "markdown",
   "metadata": {},
   "source": [
    "Idea: impute missing values by taking average rating over users for each item"
   ]
  },
  {
   "cell_type": "code",
   "execution_count": 8,
   "metadata": {},
   "outputs": [
    {
     "ename": "ImportError",
     "evalue": "cannot import name 'write_submission_file'",
     "output_type": "error",
     "traceback": [
      "\u001b[0;31m---------------------------------------------------------------------------\u001b[0m",
      "\u001b[0;31mImportError\u001b[0m                               Traceback (most recent call last)",
      "\u001b[0;32m<ipython-input-8-1975e621f6fa>\u001b[0m in \u001b[0;36m<module>\u001b[0;34m()\u001b[0m\n\u001b[1;32m      5\u001b[0m \u001b[0;32mimport\u001b[0m \u001b[0mmatplotlib\u001b[0m\u001b[0;34m.\u001b[0m\u001b[0mpyplot\u001b[0m \u001b[0;32mas\u001b[0m \u001b[0mplt\u001b[0m\u001b[0;34m\u001b[0m\u001b[0m\n\u001b[1;32m      6\u001b[0m \u001b[0;34m\u001b[0m\u001b[0m\n\u001b[0;32m----> 7\u001b[0;31m \u001b[0;32mfrom\u001b[0m \u001b[0mhelpers\u001b[0m \u001b[0;32mimport\u001b[0m \u001b[0mload_data\u001b[0m\u001b[0;34m,\u001b[0m \u001b[0mwrite_submission_file\u001b[0m\u001b[0;34m\u001b[0m\u001b[0m\n\u001b[0m",
      "\u001b[0;31mImportError\u001b[0m: cannot import name 'write_submission_file'"
     ]
    }
   ],
   "source": [
    "%matplotlib inline\n",
    "\n",
    "import matplotlib\n",
    "import numpy as np\n",
    "import matplotlib.pyplot as plt\n",
    "\n",
    "from helpers import load_data, write_submission_file"
   ]
  },
  {
   "cell_type": "markdown",
   "metadata": {},
   "source": [
    "## Load training data"
   ]
  },
  {
   "cell_type": "code",
   "execution_count": 3,
   "metadata": {},
   "outputs": [
    {
     "name": "stdout",
     "output_type": "stream",
     "text": [
      "[[0. 0. 0. ... 0. 0. 0.]\n",
      " [0. 0. 0. ... 5. 3. 3.]\n",
      " [0. 0. 0. ... 0. 0. 0.]\n",
      " ...\n",
      " [0. 0. 0. ... 0. 0. 0.]\n",
      " [0. 0. 0. ... 0. 2. 0.]\n",
      " [0. 0. 0. ... 0. 0. 0.]]\n"
     ]
    }
   ],
   "source": [
    "X = load_data()\n",
    "print(X[0:10])"
   ]
  },
  {
   "cell_type": "markdown",
   "metadata": {},
   "source": [
    "## Impute missing entries (average rating per item)"
   ]
  },
  {
   "cell_type": "code",
   "execution_count": 4,
   "metadata": {},
   "outputs": [
    {
     "name": "stdout",
     "output_type": "stream",
     "text": [
      "[[3.37941176 3.50094162 3.48358586 3.93647282 3.55913113 4.68276973\n",
      "  3.44661922 3.87749706 2.90196078 5.        ]\n",
      " [3.37941176 3.50094162 3.48358586 3.         3.55913113 5.\n",
      "  3.44661922 4.         2.90196078 3.6460717 ]\n",
      " [3.37941176 3.50094162 3.48358586 2.         3.55913113 4.68276973\n",
      "  3.44661922 3.87749706 2.90196078 3.6460717 ]\n",
      " [3.37941176 3.50094162 3.48358586 3.93647282 3.55913113 4.68276973\n",
      "  3.44661922 3.87749706 2.90196078 3.6460717 ]\n",
      " [3.37941176 2.         3.48358586 3.93647282 3.55913113 5.\n",
      "  3.44661922 3.         2.90196078 3.6460717 ]\n",
      " [3.37941176 3.50094162 3.48358586 3.93647282 3.55913113 5.\n",
      "  3.44661922 3.87749706 2.90196078 3.6460717 ]\n",
      " [3.37941176 3.50094162 3.48358586 3.93647282 3.55913113 4.68276973\n",
      "  3.44661922 3.87749706 2.90196078 3.6460717 ]\n",
      " [3.37941176 3.50094162 3.48358586 3.93647282 3.55913113 4.68276973\n",
      "  3.44661922 3.87749706 2.90196078 3.6460717 ]\n",
      " [3.37941176 3.50094162 3.48358586 3.93647282 3.55913113 5.\n",
      "  3.44661922 3.87749706 2.90196078 3.        ]\n",
      " [3.37941176 3.50094162 3.48358586 1.         3.55913113 5.\n",
      "  3.44661922 5.         2.90196078 3.6460717 ]]\n"
     ]
    }
   ],
   "source": [
    "y = X.sum(axis=0)\n",
    "rating_counts = np.count_nonzero(X, axis =0)\n",
    "average_per_item = y/rating_counts\n",
    "X_pred = np.copy(X)\n",
    "for column in range(X.shape[1]):\n",
    "    no_rating = (X[:, column] == 0)\n",
    "    X_pred[no_rating, column] = average_per_item[column]\n",
    "print(X_pred[0:10, 0:10])"
   ]
  },
  {
   "cell_type": "markdown",
   "metadata": {},
   "source": [
    "## Output submission file "
   ]
  },
  {
   "cell_type": "code",
   "execution_count": 5,
   "metadata": {},
   "outputs": [
    {
     "ename": "NameError",
     "evalue": "name 'write_submission_file' is not defined",
     "output_type": "error",
     "traceback": [
      "\u001b[0;31m---------------------------------------------------------------------------\u001b[0m",
      "\u001b[0;31mNameError\u001b[0m                                 Traceback (most recent call last)",
      "\u001b[0;32m<ipython-input-5-90db326a6903>\u001b[0m in \u001b[0;36m<module>\u001b[0;34m()\u001b[0m\n\u001b[0;32m----> 1\u001b[0;31m \u001b[0moutput\u001b[0m \u001b[0;34m=\u001b[0m \u001b[0mwrite_submission_file\u001b[0m\u001b[0;34m(\u001b[0m\u001b[0mX_pred\u001b[0m\u001b[0;34m,\u001b[0m \u001b[0;34m'submission_average_over_users_0.csv'\u001b[0m\u001b[0;34m)\u001b[0m\u001b[0;34m\u001b[0m\u001b[0m\n\u001b[0m\u001b[1;32m      2\u001b[0m \u001b[0mprint\u001b[0m\u001b[0;34m(\u001b[0m\u001b[0moutput\u001b[0m\u001b[0;34m[\u001b[0m\u001b[0;36m0\u001b[0m\u001b[0;34m:\u001b[0m\u001b[0;36m100\u001b[0m\u001b[0;34m]\u001b[0m\u001b[0;34m)\u001b[0m\u001b[0;34m\u001b[0m\u001b[0m\n",
      "\u001b[0;31mNameError\u001b[0m: name 'write_submission_file' is not defined"
     ]
    }
   ],
   "source": [
    "output = write_submission_file(X_pred, 'submission_average_over_users_0.csv')\n",
    "print(output[0:100])"
   ]
  },
  {
   "cell_type": "code",
   "execution_count": null,
   "metadata": {},
   "outputs": [],
   "source": []
  }
 ],
 "metadata": {
  "kernelspec": {
   "display_name": "Python 3",
   "language": "python",
   "name": "python3"
  },
  "language_info": {
   "codemirror_mode": {
    "name": "ipython",
    "version": 3
   },
   "file_extension": ".py",
   "mimetype": "text/x-python",
   "name": "python",
   "nbconvert_exporter": "python",
   "pygments_lexer": "ipython3",
   "version": "3.6.5"
  }
 },
 "nbformat": 4,
 "nbformat_minor": 2
}

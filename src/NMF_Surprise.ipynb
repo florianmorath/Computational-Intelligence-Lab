{
 "cells": [
  {
   "cell_type": "markdown",
   "metadata": {},
   "source": [
    "# NMF baseline algorithm using surprise package:\n",
    "\n",
    "using matrix_factorization.NMF algorithm from http://surprise.readthedocs.io/en/stable/matrix_factorization.html#surprise.prediction_algorithms.matrix_factorization.NMF\n"
   ]
  },
  {
   "cell_type": "markdown",
   "metadata": {},
   "source": [
    "A collaborative filtering algorithm based on Non-negative Matrix Factorization.\n",
    "### [LZXZ14]Luo, Zhou, Xia and Zhu. And efficient non-negative matrix factorization-based approach to collab filtering for recommender systems.\n",
    "This algorithm is very similar to SVD. The prediction $r̂_{ui}$ is set as:\n",
    "$r̂_{ui}=q^T_i*p_u$,\n",
    "where user and item factors are kept positive.\n",
    "The optimization procedure is a (regularized) stochastic gradient descent with a specific choice of step size that ensures non-negativity of factors, provided that their initial values are also positive.\n",
    "\n",
    "At each step of the SGD procedure, the factors $f$ for user $u$ and item $i$ are updated as follows:\n",
    "$p_{uf} = p_{uf} * \\frac{\\sum_{i \\in I_u} q_{if} * r_{ui}}{\\sum_{i \\in I_u} q_{if} * r̂_{ui} + \\lambda_u |{I_u}| p_{uf}}$\n",
    "\n",
    "$q_{if} = q_{if} * \\frac{\\sum_{u \\in U_i} p_{uf} * r_{ui}}{\\sum_{u \\in U_i} p_{uf} * r̂_{ui} + \\lambda_i |{U_i}| q_{if}}$\n",
    "\n",
    "where $\\lambda_u$ and $\\lambda_i$ are regularization parameters.\n",
    "\n",
    "A biased version is available by setting $\\textit{biased}$ parameter to $\\textit{True}$. In this case, the prediction is set as\n",
    "$r̂_{ui}=μ+b_u+b_i+q^T_ip_u$\n",
    "still ensuring positive factors."
   ]
  },
  {
   "cell_type": "code",
   "execution_count": 1,
   "metadata": {},
   "outputs": [],
   "source": [
    "import pandas as pd\n",
    "import numpy as np\n",
    "from scipy import stats\n",
    "\n",
    "import helpers\n",
    "from surprise_helpers import CustomReader, get_ratings_from_predictions\n",
    "from surprise import Reader, Dataset\n",
    "from surprise.model_selection.search import RandomizedSearchCV\n",
    "from surprise.prediction_algorithms.matrix_factorization import NMF"
   ]
  },
  {
   "cell_type": "markdown",
   "metadata": {},
   "source": [
    "## Data Loading"
   ]
  },
  {
   "cell_type": "code",
   "execution_count": 2,
   "metadata": {},
   "outputs": [],
   "source": [
    "reader = CustomReader()\n",
    "filepath = helpers.get_train_file_path()\n",
    "data = Dataset.load_from_file(filepath, reader=reader)"
   ]
  },
  {
   "cell_type": "markdown",
   "metadata": {},
   "source": [
    "## Search over Parameters"
   ]
  },
  {
   "cell_type": "code",
   "execution_count": null,
   "metadata": {},
   "outputs": [],
   "source": [
    "param_grid = {'n_epochs': stats.randint(230,290), \n",
    "              'n_factors': stats.randint(1,30),\n",
    "                'reg_pu': stats.uniform(0.1,0.2),\n",
    "                'reg_qi': stats.uniform(0.1,0.2),\n",
    "                'biased': [True, False],\n",
    "             }      \n",
    "        \n",
    "\n",
    "gs = RandomizedSearchCV(algo_class=NMF, param_distributions=param_grid, measures=['rmse'], \n",
    "                        cv=10, joblib_verbose=100, n_jobs=-1, n_iter=5)\n",
    "gs.fit(data)\n",
    "\n",
    "# best RMSE score\n",
    "print(gs.best_score['rmse'])\n",
    "\n",
    "# combination of parameters that gave the best RMSE score\n",
    "print(gs.best_params['rmse'])"
   ]
  },
  {
   "cell_type": "code",
   "execution_count": null,
   "metadata": {},
   "outputs": [],
   "source": [
    "pd.DataFrame.from_dict(gs.cv_results)"
   ]
  },
  {
   "cell_type": "markdown",
   "metadata": {},
   "source": [
    "## Results: params \n",
    "\n",
    "note: run on Leonhard cluster (20 cores and 22GB mem) <br/>\n",
    "cv=10\n",
    "\n",
    "0.992061420614\n",
    "{'biased': False, 'n_epochs': 193, 'n_factors': 31, 'reg_pu': 0.066509535353532462, 'reg_qi': 0.10446537083767632}\n",
    "\n",
    "0.992958716098\n",
    "{'biased': False, 'n_epochs': 176, 'n_factors': 37, 'reg_pu': 0.069167790265929271, 'reg_qi': 0.086294785465031928}\n",
    "\n",
    "0.99311438531\n",
    "{'biased': False, 'n_epochs': 191, 'n_factors': 31, 'reg_pu': 0.07808007756523791, 'reg_qi': 0.088612273434871519}\n",
    "\n",
    "0.993592996799\n",
    "{'biased': False, 'n_epochs': 188, 'n_factors': 38, 'reg_pu': 0.089413334809372413, 'reg_qi': 0.10338587840560964}\n",
    "\n",
    "0.994897339341\n",
    "{'biased': False, 'n_epochs': 183, 'n_factors': 27, 'reg_pu': 0.056499330646607303, 'reg_qi': 0.10566161340114467}\n",
    "\n",
    "0.994350620317\n",
    "{'biased': False, 'n_epochs': 150, 'n_factors': 42, 'reg_pu': 0.071276306378441942, 'reg_qi': 0.084673247552462749}\n",
    "\n",
    "0.994469288179\n",
    "{'n_epochs': 261, 'n_factors': 23, 'reg_bi': 1.6667791514258101, 'reg_bu': 0.64371831932001311, 'reg_pu': 0.10279700072169747, 'reg_qi': 0.12452450006647738}\n",
    "\n",
    "0.995282415101\n",
    "{'n_epochs': 256}\n",
    "\n",
    "\n",
    "\n",
    "0.997362682285\n",
    "{'biased': False, 'n_epochs': 165, 'n_factors': 21, 'reg_pu': 0.1015205155303968, 'reg_qi': 0.064342096085956021}\n",
    "\n",
    "0.997185497246\n",
    "{'biased': False, 'n_epochs': 181, 'n_factors': 14, 'reg_pu': 0.065538361077981833, 'reg_qi': 0.071701378482202344}\n",
    "\n",
    "0.996537013593\n",
    "{'biased': False, 'n_epochs': 146, 'n_factors': 44, 'reg_pu': 0.039543644841938855, 'reg_qi': 0.094522593860989254}\n",
    "\n",
    "\n",
    "\n",
    "\n",
    "---\n",
    "\n",
    "1.00796302363\n",
    "{'reg_pu': 0.16886198480906289}\n",
    "\n",
    "1.00722502711\n",
    "{'reg_qi': 0.13702113849142605}\n",
    "\n",
    "1.0092083515\n",
    "{'reg_bu': 0.34284468705230597}\n",
    "\n",
    "1.00944021138\n",
    "{'reg_bi': 0.93748069281861202}\n",
    "\n",
    "1.00976479276\n",
    "{'n_factors': 15}\n",
    "\n",
    "1.00594746757\n",
    "{'n_epochs': 262, 'n_factors': 21, 'reg_bi': 1.4693650385908883, 'reg_bu': 0.29370679004185357, 'reg_pu': 0.16575459605631229, 'reg_qi': 0.13074898536926785}\n",
    "\n",
    "1.00956524442\n",
    "{}\n",
    "\n",
    "1.01386334123\n",
    "{'biased': True}\n",
    "\n",
    "1.00241560742\n",
    "{'biased': True, 'n_factors': 13}\n",
    "\n"
   ]
  },
  {
   "cell_type": "markdown",
   "metadata": {},
   "source": [
    "## Train"
   ]
  },
  {
   "cell_type": "code",
   "execution_count": 3,
   "metadata": {},
   "outputs": [
    {
     "data": {
      "text/plain": [
       "<surprise.prediction_algorithms.matrix_factorization.NMF at 0x105fed390>"
      ]
     },
     "execution_count": 3,
     "metadata": {},
     "output_type": "execute_result"
    }
   ],
   "source": [
    "# choose optimal params from above\n",
    "# {'biased': False, 'n_epochs': 193, 'n_factors': 31, 'reg_pu': 0.066509535353532462, 'reg_qi': 0.10446537083767632}\n",
    "\n",
    "algo = NMF(biased=False, n_epochs=193, n_factors=31, reg_pu=0.066509535353532462, reg_qi=0.10446537083767632)\n",
    "\n",
    "# train \n",
    "algo.fit(data.build_full_trainset())"
   ]
  },
  {
   "cell_type": "markdown",
   "metadata": {},
   "source": [
    "## Predicting\n",
    "We load the test data to predict."
   ]
  },
  {
   "cell_type": "code",
   "execution_count": 5,
   "metadata": {},
   "outputs": [
    {
     "data": {
      "text/plain": [
       "Prediction(uid=36, iid=0, r_ui=3.0, est=3.2801484348638974, details={'was_impossible': False})"
      ]
     },
     "execution_count": 5,
     "metadata": {},
     "output_type": "execute_result"
    }
   ],
   "source": [
    "test_file_path = helpers.get_test_file_path()\n",
    "test_data = Dataset.load_from_file(test_file_path, reader=reader)\n",
    "testset = test_data.construct_testset(test_data.raw_ratings)\n",
    "predictions = algo.test(testset)\n",
    "predictions[0]"
   ]
  },
  {
   "cell_type": "markdown",
   "metadata": {},
   "source": [
    "We need to convert the predictions into the right format."
   ]
  },
  {
   "cell_type": "code",
   "execution_count": 6,
   "metadata": {},
   "outputs": [],
   "source": [
    "ratings = get_ratings_from_predictions(predictions)"
   ]
  },
  {
   "cell_type": "markdown",
   "metadata": {},
   "source": [
    "Now we can write the file."
   ]
  },
  {
   "cell_type": "code",
   "execution_count": 7,
   "metadata": {},
   "outputs": [
    {
     "name": "stdout",
     "output_type": "stream",
     "text": [
      "Id,Prediction\n",
      "r37_c1,3.280148\n",
      "r73_c1,2.938519\n",
      "r156_c1,3.551042\n",
      "r160_c1,3.216799\n",
      "r248_c1,3.265300\n",
      "r25\n"
     ]
    }
   ],
   "source": [
    "output = helpers.write_submission(ratings, 'submission_surprise_NMF_1.csv')\n",
    "print(output[0:100])"
   ]
  },
  {
   "cell_type": "code",
   "execution_count": null,
   "metadata": {},
   "outputs": [],
   "source": []
  }
 ],
 "metadata": {
  "kernelspec": {
   "display_name": "Python 3",
   "language": "python",
   "name": "python3"
  },
  "language_info": {
   "codemirror_mode": {
    "name": "ipython",
    "version": 3
   },
   "file_extension": ".py",
   "mimetype": "text/x-python",
   "name": "python",
   "nbconvert_exporter": "python",
   "pygments_lexer": "ipython3",
   "version": "3.5.2"
  }
 },
 "nbformat": 4,
 "nbformat_minor": 2
}

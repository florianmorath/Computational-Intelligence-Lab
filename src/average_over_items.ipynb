{
 "cells": [
  {
   "cell_type": "markdown",
   "metadata": {},
   "source": [
    "# Average over users for each item"
   ]
  },
  {
   "cell_type": "markdown",
   "metadata": {},
   "source": [
    "Idea: impute missing values by taking average rating over users for each item"
   ]
  },
  {
   "cell_type": "code",
   "execution_count": 1,
   "metadata": {},
   "outputs": [],
   "source": [
    "%matplotlib inline\n",
    "\n",
    "import matplotlib\n",
    "import numpy as np\n",
    "import matplotlib.pyplot as plt\n",
    "\n",
    "from helpers import load_data, write_submission_file"
   ]
  },
  {
   "cell_type": "markdown",
   "metadata": {},
   "source": [
    "## Load training data"
   ]
  },
  {
   "cell_type": "code",
   "execution_count": 2,
   "metadata": {},
   "outputs": [
    {
     "name": "stdout",
     "output_type": "stream",
     "text": [
      "[[0. 0. 0. 0. 0. 0. 0. 0. 0. 5.]\n",
      " [0. 0. 0. 3. 0. 5. 0. 4. 0. 0.]\n",
      " [0. 0. 0. 2. 0. 0. 0. 0. 0. 0.]\n",
      " [0. 0. 0. 0. 0. 0. 0. 0. 0. 0.]\n",
      " [0. 2. 0. 0. 0. 5. 0. 3. 0. 0.]\n",
      " [0. 0. 0. 0. 0. 5. 0. 0. 0. 0.]\n",
      " [0. 0. 0. 0. 0. 0. 0. 0. 0. 0.]\n",
      " [0. 0. 0. 0. 0. 0. 0. 0. 0. 0.]\n",
      " [0. 0. 0. 0. 0. 5. 0. 0. 0. 3.]\n",
      " [0. 0. 0. 1. 0. 5. 0. 5. 0. 0.]]\n"
     ]
    }
   ],
   "source": [
    "X = load_data()\n",
    "print(X[0:10,0:10])"
   ]
  },
  {
   "cell_type": "markdown",
   "metadata": {},
   "source": [
    "## Impute missing entries (average rating per item)"
   ]
  },
  {
   "cell_type": "code",
   "execution_count": 3,
   "metadata": {},
   "outputs": [
    {
     "name": "stdout",
     "output_type": "stream",
     "text": [
      "[[3.37941176 3.50094162 3.48358586 3.93647282 3.55913113 4.68276973\n",
      "  3.44661922 3.87749706 2.90196078 5.        ]\n",
      " [3.37941176 3.50094162 3.48358586 3.         3.55913113 5.\n",
      "  3.44661922 4.         2.90196078 3.6460717 ]\n",
      " [3.37941176 3.50094162 3.48358586 2.         3.55913113 4.68276973\n",
      "  3.44661922 3.87749706 2.90196078 3.6460717 ]\n",
      " [3.37941176 3.50094162 3.48358586 3.93647282 3.55913113 4.68276973\n",
      "  3.44661922 3.87749706 2.90196078 3.6460717 ]\n",
      " [3.37941176 2.         3.48358586 3.93647282 3.55913113 5.\n",
      "  3.44661922 3.         2.90196078 3.6460717 ]\n",
      " [3.37941176 3.50094162 3.48358586 3.93647282 3.55913113 5.\n",
      "  3.44661922 3.87749706 2.90196078 3.6460717 ]\n",
      " [3.37941176 3.50094162 3.48358586 3.93647282 3.55913113 4.68276973\n",
      "  3.44661922 3.87749706 2.90196078 3.6460717 ]\n",
      " [3.37941176 3.50094162 3.48358586 3.93647282 3.55913113 4.68276973\n",
      "  3.44661922 3.87749706 2.90196078 3.6460717 ]\n",
      " [3.37941176 3.50094162 3.48358586 3.93647282 3.55913113 5.\n",
      "  3.44661922 3.87749706 2.90196078 3.        ]\n",
      " [3.37941176 3.50094162 3.48358586 1.         3.55913113 5.\n",
      "  3.44661922 5.         2.90196078 3.6460717 ]]\n"
     ]
    }
   ],
   "source": [
    "y = X.sum(axis=0)\n",
    "rating_counts = np.count_nonzero(X, axis =0)\n",
    "average_per_item = y/rating_counts\n",
    "X_pred = np.copy(X)\n",
    "for column in range(X.shape[1]):\n",
    "    no_rating = (X[:, column] == 0)\n",
    "    X_pred[no_rating, column] = average_per_item[column]\n",
    "print(X_pred[0:10, 0:10])"
   ]
  },
  {
   "cell_type": "markdown",
   "metadata": {},
   "source": [
    "## Output submission file "
   ]
  },
  {
   "cell_type": "code",
   "execution_count": 4,
   "metadata": {},
   "outputs": [
    {
     "name": "stdout",
     "output_type": "stream",
     "text": [
      "Id,Prediction\n",
      "r37_c1,3.379412\n",
      "r73_c1,3.379412\n",
      "r156_c1,3.379412\n",
      "r160_c1,3.379412\n",
      "r248_c1,3.379412\n",
      "r25\n"
     ]
    }
   ],
   "source": [
    "output = write_submission_file(X_pred, \"submission_average_over_users_0.csv\")\n",
    "print(output[0:100])"
   ]
  },
  {
   "cell_type": "code",
   "execution_count": null,
   "metadata": {},
   "outputs": [],
   "source": []
  }
 ],
 "metadata": {
  "kernelspec": {
   "display_name": "Python 3",
   "language": "python",
   "name": "python3"
  },
  "language_info": {
   "codemirror_mode": {
    "name": "ipython",
    "version": 3
   },
   "file_extension": ".py",
   "mimetype": "text/x-python",
   "name": "python",
   "nbconvert_exporter": "python",
   "pygments_lexer": "ipython3",
   "version": "3.6.5"
  }
 },
 "nbformat": 4,
 "nbformat_minor": 2
}

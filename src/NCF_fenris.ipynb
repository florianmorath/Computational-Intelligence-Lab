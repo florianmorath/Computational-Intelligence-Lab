{
 "cells": [
  {
   "cell_type": "code",
   "execution_count": 2,
   "metadata": {},
   "outputs": [
    {
     "name": "stderr",
     "output_type": "stream",
     "text": [
      "Using TensorFlow backend.\n"
     ]
    }
   ],
   "source": [
    "import numpy as np\n",
    "import pandas as pd\n",
    "import tensorflow as tf\n",
    "from keras.layers import Embedding, Reshape, Dropout, Dense, Dot, Concatenate, Input, Flatten\n",
    "from keras.layers.merge import dot\n",
    "from keras.models import Model, Sequential\n",
    "from tensorflow.python.keras.regularizers import l2\n",
    "from keras.optimizers import Adamax, Adam\n",
    "from keras.callbacks import EarlyStopping, ModelCheckpoint\n"
   ]
  },
  {
   "cell_type": "markdown",
   "metadata": {},
   "source": [
    "### Model"
   ]
  },
  {
   "cell_type": "code",
   "execution_count": 2,
   "metadata": {},
   "outputs": [],
   "source": [
    "class CFModel(Sequential):\n",
    "\n",
    "    def __init__(self, n_users, m_items, k_factors, **kwargs):\n",
    "        P = Sequential()\n",
    "        P.add(Embedding(n_users, k_factors, input_length=1))\n",
    "        P.add(Reshape((k_factors,)))\n",
    "        Q = Sequential()\n",
    "        Q.add(Embedding(m_items, k_factors, input_length=1))\n",
    "        Q.add(Reshape((k_factors,)))\n",
    "        super(CFModel, self).__init__(**kwargs)\n",
    "        self.add(Dot(axes=1)([P, Q]))\n",
    "        #merged = dot([P.output, Q.output], axes=1)\n",
    "        #self.add(merged)\n",
    "        \n",
    "\n",
    "    def rate(self, user_id, item_id):\n",
    "        return self.predict([np.array([user_id]), np.array([item_id])])[0][0]\n",
    "\n",
    "\n",
    "class DeepModel(Sequential):\n",
    "\n",
    "    def __init__(self, n_users, m_items, k_factors, p_dropout=0.1, **kwargs):\n",
    "        P = Sequential()\n",
    "        P.add(Embedding(n_users, k_factors, input_length=1))\n",
    "        P.add(Reshape((k_factors,)))\n",
    "        Q = Sequential()\n",
    "        Q.add(Embedding(m_items, k_factors, input_length=1))\n",
    "        Q.add(Reshape((k_factors,)))\n",
    "        super(DeepModel, self).__init__(**kwargs)\n",
    "        self.add(Concatenate([P, Q]))\n",
    "        self.add(Dropout(p_dropout))\n",
    "        self.add(Dense(k_factors, activation='relu'))\n",
    "        self.add(Dropout(p_dropout))\n",
    "        self.add(Dense(1, activation='linear'))\n",
    "\n",
    "    def rate(self, user_id, item_id):\n",
    "        return self.predict([np.array([user_id]), np.array([item_id])])[0][0]"
   ]
  },
  {
   "cell_type": "markdown",
   "metadata": {},
   "source": [
    "### Load data"
   ]
  },
  {
   "cell_type": "code",
   "execution_count": 3,
   "metadata": {},
   "outputs": [
    {
     "data": {
      "text/html": [
       "<div>\n",
       "<style scoped>\n",
       "    .dataframe tbody tr th:only-of-type {\n",
       "        vertical-align: middle;\n",
       "    }\n",
       "\n",
       "    .dataframe tbody tr th {\n",
       "        vertical-align: top;\n",
       "    }\n",
       "\n",
       "    .dataframe thead th {\n",
       "        text-align: right;\n",
       "    }\n",
       "</style>\n",
       "<table border=\"1\" class=\"dataframe\">\n",
       "  <thead>\n",
       "    <tr style=\"text-align: right;\">\n",
       "      <th></th>\n",
       "      <th>userid</th>\n",
       "      <th>movieid</th>\n",
       "      <th>rating</th>\n",
       "    </tr>\n",
       "  </thead>\n",
       "  <tbody>\n",
       "    <tr>\n",
       "      <th>0</th>\n",
       "      <td>44</td>\n",
       "      <td>1</td>\n",
       "      <td>4</td>\n",
       "    </tr>\n",
       "    <tr>\n",
       "      <th>1</th>\n",
       "      <td>61</td>\n",
       "      <td>1</td>\n",
       "      <td>3</td>\n",
       "    </tr>\n",
       "    <tr>\n",
       "      <th>2</th>\n",
       "      <td>67</td>\n",
       "      <td>1</td>\n",
       "      <td>4</td>\n",
       "    </tr>\n",
       "    <tr>\n",
       "      <th>3</th>\n",
       "      <td>72</td>\n",
       "      <td>1</td>\n",
       "      <td>3</td>\n",
       "    </tr>\n",
       "    <tr>\n",
       "      <th>4</th>\n",
       "      <td>86</td>\n",
       "      <td>1</td>\n",
       "      <td>5</td>\n",
       "    </tr>\n",
       "  </tbody>\n",
       "</table>\n",
       "</div>"
      ],
      "text/plain": [
       "   userid  movieid  rating\n",
       "0      44        1       4\n",
       "1      61        1       3\n",
       "2      67        1       4\n",
       "3      72        1       3\n",
       "4      86        1       5"
      ]
     },
     "execution_count": 3,
     "metadata": {},
     "output_type": "execute_result"
    }
   ],
   "source": [
    "K_FACTORS = 120\n",
    "RNG_SEED = 1446557\n",
    "\n",
    "ratings = pd.read_csv('foo2.csv')\n",
    "ratings.drop(['index'],axis=1, inplace=True)\n",
    "ratings.head()"
   ]
  },
  {
   "cell_type": "code",
   "execution_count": 4,
   "metadata": {},
   "outputs": [],
   "source": [
    "from sklearn.preprocessing import LabelEncoder\n",
    "user_enc = LabelEncoder()\n",
    "movie_enc = LabelEncoder()\n",
    "user_enc.fit(ratings.userid.unique())\n",
    "movie_enc.fit(ratings.movieid.unique())\n",
    "n_users = len(user_enc.classes_)\n",
    "n_movies = len(movie_enc.classes_)"
   ]
  },
  {
   "cell_type": "code",
   "execution_count": 5,
   "metadata": {},
   "outputs": [
    {
     "data": {
      "text/html": [
       "<div>\n",
       "<style scoped>\n",
       "    .dataframe tbody tr th:only-of-type {\n",
       "        vertical-align: middle;\n",
       "    }\n",
       "\n",
       "    .dataframe tbody tr th {\n",
       "        vertical-align: top;\n",
       "    }\n",
       "\n",
       "    .dataframe thead th {\n",
       "        text-align: right;\n",
       "    }\n",
       "</style>\n",
       "<table border=\"1\" class=\"dataframe\">\n",
       "  <thead>\n",
       "    <tr style=\"text-align: right;\">\n",
       "      <th></th>\n",
       "      <th>userid</th>\n",
       "      <th>movieid</th>\n",
       "      <th>rating</th>\n",
       "    </tr>\n",
       "  </thead>\n",
       "  <tbody>\n",
       "    <tr>\n",
       "      <th>0</th>\n",
       "      <td>43</td>\n",
       "      <td>0</td>\n",
       "      <td>4</td>\n",
       "    </tr>\n",
       "    <tr>\n",
       "      <th>1</th>\n",
       "      <td>60</td>\n",
       "      <td>0</td>\n",
       "      <td>3</td>\n",
       "    </tr>\n",
       "    <tr>\n",
       "      <th>2</th>\n",
       "      <td>66</td>\n",
       "      <td>0</td>\n",
       "      <td>4</td>\n",
       "    </tr>\n",
       "    <tr>\n",
       "      <th>3</th>\n",
       "      <td>71</td>\n",
       "      <td>0</td>\n",
       "      <td>3</td>\n",
       "    </tr>\n",
       "    <tr>\n",
       "      <th>4</th>\n",
       "      <td>85</td>\n",
       "      <td>0</td>\n",
       "      <td>5</td>\n",
       "    </tr>\n",
       "  </tbody>\n",
       "</table>\n",
       "</div>"
      ],
      "text/plain": [
       "   userid  movieid  rating\n",
       "0      43        0       4\n",
       "1      60        0       3\n",
       "2      66        0       4\n",
       "3      71        0       3\n",
       "4      85        0       5"
      ]
     },
     "execution_count": 5,
     "metadata": {},
     "output_type": "execute_result"
    }
   ],
   "source": [
    "ratings.userid = user_enc.transform(ratings.userid)\n",
    "ratings.movieid = movie_enc.transform(ratings.movieid)\n",
    "ratings.head()"
   ]
  },
  {
   "cell_type": "code",
   "execution_count": 6,
   "metadata": {},
   "outputs": [
    {
     "name": "stdout",
     "output_type": "stream",
     "text": [
      "Users: [5118 8984 4603 ... 1635 9523 4863] , shape = (1176952,)\n",
      "Movies: [754 465 620 ... 910 819 105] , shape = (1176952,)\n",
      "Ratings: [5 2 5 ... 4 4 3] , shape = (1176952,)\n"
     ]
    }
   ],
   "source": [
    "shuffled_ratings = ratings.sample(frac=1., random_state=RNG_SEED)\n",
    "Users = shuffled_ratings['userid'].values\n",
    "print('Users:', Users, ', shape =', Users.shape)\n",
    "Movies = shuffled_ratings['movieid'].values\n",
    "print('Movies:', Movies, ', shape =', Movies.shape)\n",
    "Ratings = shuffled_ratings['rating'].values\n",
    "print('Ratings:', Ratings, ', shape =', Ratings.shape)"
   ]
  },
  {
   "cell_type": "markdown",
   "metadata": {},
   "source": [
    "### Define model"
   ]
  },
  {
   "cell_type": "markdown",
   "metadata": {},
   "source": [
    "### this box for trying out different things"
   ]
  },
  {
   "cell_type": "code",
   "execution_count": 17,
   "metadata": {},
   "outputs": [
    {
     "name": "stdout",
     "output_type": "stream",
     "text": [
      "Tensor(\"embedding_11/embedding_lookup:0\", shape=(?, 1, 120), dtype=float32)\n",
      "Tensor(\"embedding_12/embedding_lookup:0\", shape=(?, 1, 120), dtype=float32)\n",
      "Tensor(\"dot_6/MatMul:0\", shape=(?, 1, 1), dtype=float32)\n"
     ]
    }
   ],
   "source": [
    "# seems that we have to use keras functional api instead of model api\n",
    "user_in = Input(shape=(1,), dtype='int64', name='user_in')\n",
    "u = Embedding(10000, K_FACTORS, input_length=1, embeddings_regularizer=None, embeddings_initializer='glorot_normal')(user_in)\n",
    "print(u)\n",
    "u = Reshape((K_FACTORS,1,), name='reshape_users')(u)\n",
    "movie_in = Input(shape=(1,), dtype='int64', name='movie_in')\n",
    "m = Embedding(1000, K_FACTORS, input_length=1, embeddings_regularizer=None, embeddings_initializer='glorot_normal')(movie_in)\n",
    "print(m)\n",
    "m = Reshape((K_FACTORS,1,), name='reshape_movies')(m)\n",
    "x = Dot(axes=1)([u, m])\n",
    "print(x)\n",
    "x = Flatten(name='flatten')(x)\n",
    "model = Model([user_in, movie_in], x)\n",
    "model.compile(Adam(0.000001), loss='mse')\n",
    "#model.compile(loss='mse', optimizer='adamax')"
   ]
  },
  {
   "cell_type": "code",
   "execution_count": 18,
   "metadata": {},
   "outputs": [],
   "source": [
    "#max_userid = ratings['userid'].drop_duplicates().max()+1\n",
    "#max_movieid = ratings['movieid'].drop_duplicates().max()+1\n",
    "\n",
    "#model = CFModel(max_userid, max_movieid, K_FACTORS)\n",
    "#model.compile(loss='mse', optimizer='adamax')"
   ]
  },
  {
   "cell_type": "markdown",
   "metadata": {},
   "source": [
    "### Train model"
   ]
  },
  {
   "cell_type": "code",
   "execution_count": 3,
   "metadata": {},
   "outputs": [
    {
     "ename": "NameError",
     "evalue": "name 'model' is not defined",
     "output_type": "error",
     "traceback": [
      "\u001b[0;31m---------------------------------------------------------------------------\u001b[0m",
      "\u001b[0;31mNameError\u001b[0m                                 Traceback (most recent call last)",
      "\u001b[0;32m<ipython-input-3-46f94968317a>\u001b[0m in \u001b[0;36m<module>\u001b[0;34m()\u001b[0m\n\u001b[1;32m      1\u001b[0m callbacks = [EarlyStopping('val_loss', patience=2), \n\u001b[1;32m      2\u001b[0m              ModelCheckpoint('model_weights.h5', save_best_only=True)]\n\u001b[0;32m----> 3\u001b[0;31m \u001b[0mhistory\u001b[0m \u001b[0;34m=\u001b[0m \u001b[0mmodel\u001b[0m\u001b[0;34m.\u001b[0m\u001b[0mfit\u001b[0m\u001b[0;34m(\u001b[0m\u001b[0;34m[\u001b[0m\u001b[0mUsers\u001b[0m\u001b[0;34m,\u001b[0m \u001b[0mMovies\u001b[0m\u001b[0;34m]\u001b[0m\u001b[0;34m,\u001b[0m \u001b[0mRatings\u001b[0m\u001b[0;34m,\u001b[0m \u001b[0mnb_epoch\u001b[0m\u001b[0;34m=\u001b[0m\u001b[0;36m30\u001b[0m\u001b[0;34m,\u001b[0m \u001b[0mvalidation_split\u001b[0m\u001b[0;34m=\u001b[0m\u001b[0;36m.2\u001b[0m\u001b[0;34m,\u001b[0m \u001b[0mverbose\u001b[0m\u001b[0;34m=\u001b[0m\u001b[0;36m2\u001b[0m\u001b[0;34m,\u001b[0m \u001b[0mcallbacks\u001b[0m\u001b[0;34m=\u001b[0m\u001b[0mcallbacks\u001b[0m\u001b[0;34m)\u001b[0m\u001b[0;34m\u001b[0m\u001b[0m\n\u001b[0m",
      "\u001b[0;31mNameError\u001b[0m: name 'model' is not defined"
     ]
    }
   ],
   "source": [
    "callbacks = [EarlyStopping('val_loss', patience=2), \n",
    "             ModelCheckpoint('model_weights.h5', save_best_only=True)]\n",
    "history = model.fit([Users, Movies], Ratings, nb_epoch=30, validation_split=.2, verbose=2, callbacks=callbacks)"
   ]
  },
  {
   "cell_type": "markdown",
   "metadata": {},
   "source": [
    "### Plot training and validation RMSE"
   ]
  },
  {
   "cell_type": "code",
   "execution_count": null,
   "metadata": {},
   "outputs": [],
   "source": [
    "#loss = pd.DataFrame({'epoch': [ i + 1 for i in history.epoch ],\n",
    " #                    'training': [ math.sqrt(loss) for loss in history.history['loss'] ],\n",
    " #                    'validation': [ math.sqrt(loss) for loss in history.history['val_loss'] ]})\n",
    "#ax = loss.ix[:,:].plot(x='epoch', figsize={7,10}, grid=True)\n",
    "#ax.set_ylabel(\"root mean squared error\")\n",
    "#ax.set_ylim([0.0,3.0]);"
   ]
  },
  {
   "cell_type": "markdown",
   "metadata": {},
   "source": [
    "### Print best validation RMSE"
   ]
  },
  {
   "cell_type": "code",
   "execution_count": null,
   "metadata": {},
   "outputs": [],
   "source": [
    "min_val_loss, idx = min((val, idx) for (idx, val) in enumerate(history.history['val_loss']))\n",
    "print 'Minimum RMSE at epoch', '{:d}'.format(idx+1), '=', '{:.4f}'.format(math.sqrt(min_val_loss))"
   ]
  }
 ],
 "metadata": {
  "kernelspec": {
   "display_name": "Python 3",
   "language": "python",
   "name": "python3"
  },
  "language_info": {
   "codemirror_mode": {
    "name": "ipython",
    "version": 3
   },
   "file_extension": ".py",
   "mimetype": "text/x-python",
   "name": "python",
   "nbconvert_exporter": "python",
   "pygments_lexer": "ipython3",
   "version": "3.5.2"
  }
 },
 "nbformat": 4,
 "nbformat_minor": 2
}

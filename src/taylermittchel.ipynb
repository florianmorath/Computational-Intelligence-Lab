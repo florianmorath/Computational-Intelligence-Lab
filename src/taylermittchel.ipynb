{
 "cells": [
  {
   "cell_type": "markdown",
   "metadata": {},
   "source": [
    "## Preprocessing"
   ]
  },
  {
   "cell_type": "code",
   "execution_count": 2,
   "metadata": {},
   "outputs": [],
   "source": [
    "%reload_ext autoreload\n",
    "%autoreload 2\n",
    "import os\n",
    "import numpy as np\n",
    "import pandas as pd\n",
    "import matplotlib.pyplot as plt\n",
    "from sklearn.metrics import mean_squared_error\n",
    "from scipy import sparse"
   ]
  },
  {
   "cell_type": "code",
   "execution_count": 4,
   "metadata": {},
   "outputs": [
    {
     "data": {
      "text/html": [
       "<div>\n",
       "<style scoped>\n",
       "    .dataframe tbody tr th:only-of-type {\n",
       "        vertical-align: middle;\n",
       "    }\n",
       "\n",
       "    .dataframe tbody tr th {\n",
       "        vertical-align: top;\n",
       "    }\n",
       "\n",
       "    .dataframe thead th {\n",
       "        text-align: right;\n",
       "    }\n",
       "</style>\n",
       "<table border=\"1\" class=\"dataframe\">\n",
       "  <thead>\n",
       "    <tr style=\"text-align: right;\">\n",
       "      <th></th>\n",
       "      <th>userId</th>\n",
       "      <th>movieId</th>\n",
       "      <th>rating</th>\n",
       "    </tr>\n",
       "  </thead>\n",
       "  <tbody>\n",
       "    <tr>\n",
       "      <th>0</th>\n",
       "      <td>44</td>\n",
       "      <td>1</td>\n",
       "      <td>4</td>\n",
       "    </tr>\n",
       "    <tr>\n",
       "      <th>1</th>\n",
       "      <td>61</td>\n",
       "      <td>1</td>\n",
       "      <td>3</td>\n",
       "    </tr>\n",
       "    <tr>\n",
       "      <th>2</th>\n",
       "      <td>67</td>\n",
       "      <td>1</td>\n",
       "      <td>4</td>\n",
       "    </tr>\n",
       "    <tr>\n",
       "      <th>3</th>\n",
       "      <td>72</td>\n",
       "      <td>1</td>\n",
       "      <td>3</td>\n",
       "    </tr>\n",
       "    <tr>\n",
       "      <th>4</th>\n",
       "      <td>86</td>\n",
       "      <td>1</td>\n",
       "      <td>5</td>\n",
       "    </tr>\n",
       "  </tbody>\n",
       "</table>\n",
       "</div>"
      ],
      "text/plain": [
       "   userId  movieId  rating\n",
       "0      44        1       4\n",
       "1      61        1       3\n",
       "2      67        1       4\n",
       "3      72        1       3\n",
       "4      86        1       5"
      ]
     },
     "execution_count": 4,
     "metadata": {},
     "output_type": "execute_result"
    }
   ],
   "source": [
    "ratings = pd.read_csv('foo.csv')\n",
    "ratings.drop(['index'],axis=1, inplace=True)\n",
    "ratings.head()"
   ]
  },
  {
   "cell_type": "markdown",
   "metadata": {},
   "source": [
    "Here I encode the user and movie ids. They're already integers, but I want them to start at zero to make life with matrices easier later on. I also drop the timestamp since I won't be using it."
   ]
  },
  {
   "cell_type": "code",
   "execution_count": 5,
   "metadata": {},
   "outputs": [],
   "source": [
    "from sklearn.preprocessing import LabelEncoder\n",
    "user_enc = LabelEncoder()\n",
    "movie_enc = LabelEncoder()\n",
    "user_enc.fit(ratings.userId.unique())\n",
    "movie_enc.fit(ratings.movieId.unique())\n",
    "n_users = len(user_enc.classes_)\n",
    "n_movies = len(movie_enc.classes_)"
   ]
  },
  {
   "cell_type": "code",
   "execution_count": 6,
   "metadata": {},
   "outputs": [
    {
     "data": {
      "text/html": [
       "<div>\n",
       "<style scoped>\n",
       "    .dataframe tbody tr th:only-of-type {\n",
       "        vertical-align: middle;\n",
       "    }\n",
       "\n",
       "    .dataframe tbody tr th {\n",
       "        vertical-align: top;\n",
       "    }\n",
       "\n",
       "    .dataframe thead th {\n",
       "        text-align: right;\n",
       "    }\n",
       "</style>\n",
       "<table border=\"1\" class=\"dataframe\">\n",
       "  <thead>\n",
       "    <tr style=\"text-align: right;\">\n",
       "      <th></th>\n",
       "      <th>userId</th>\n",
       "      <th>movieId</th>\n",
       "      <th>rating</th>\n",
       "    </tr>\n",
       "  </thead>\n",
       "  <tbody>\n",
       "    <tr>\n",
       "      <th>0</th>\n",
       "      <td>43</td>\n",
       "      <td>0</td>\n",
       "      <td>4</td>\n",
       "    </tr>\n",
       "    <tr>\n",
       "      <th>1</th>\n",
       "      <td>60</td>\n",
       "      <td>0</td>\n",
       "      <td>3</td>\n",
       "    </tr>\n",
       "    <tr>\n",
       "      <th>2</th>\n",
       "      <td>66</td>\n",
       "      <td>0</td>\n",
       "      <td>4</td>\n",
       "    </tr>\n",
       "    <tr>\n",
       "      <th>3</th>\n",
       "      <td>71</td>\n",
       "      <td>0</td>\n",
       "      <td>3</td>\n",
       "    </tr>\n",
       "    <tr>\n",
       "      <th>4</th>\n",
       "      <td>85</td>\n",
       "      <td>0</td>\n",
       "      <td>5</td>\n",
       "    </tr>\n",
       "  </tbody>\n",
       "</table>\n",
       "</div>"
      ],
      "text/plain": [
       "   userId  movieId  rating\n",
       "0      43        0       4\n",
       "1      60        0       3\n",
       "2      66        0       4\n",
       "3      71        0       3\n",
       "4      85        0       5"
      ]
     },
     "execution_count": 6,
     "metadata": {},
     "output_type": "execute_result"
    }
   ],
   "source": [
    "ratings.userId = user_enc.transform(ratings.userId)\n",
    "ratings.movieId = movie_enc.transform(ratings.movieId)\n",
    "ratings.head()"
   ]
  },
  {
   "cell_type": "markdown",
   "metadata": {},
   "source": [
    "I randomly select 20% of the data to hold out as a validation set. This set won't be seen by the models during training, and will be used to measure how well the model performs on unseen data. The dataframe `ratings_val` and `ratings_trn` hold the validation and training sets respectively."
   ]
  },
  {
   "cell_type": "code",
   "execution_count": 7,
   "metadata": {},
   "outputs": [],
   "source": [
    "def get_val_idxs(n, pc=0.2):\n",
    "    \"\"\"Randomly selects idxs for validation set\"\"\"\n",
    "    np.random.seed(42)\n",
    "    idxs = np.random.permutation(n)\n",
    "    return idxs[:int(n*pc)]"
   ]
  },
  {
   "cell_type": "code",
   "execution_count": 8,
   "metadata": {},
   "outputs": [],
   "source": [
    "val_idxs = get_val_idxs(len(ratings))\n",
    "mask = np.zeros(len(ratings), dtype=bool)\n",
    "mask[val_idxs] = True\n",
    "ratings_val = ratings[mask]\n",
    "ratings_trn = ratings[~mask]"
   ]
  },
  {
   "cell_type": "markdown",
   "metadata": {},
   "source": [
    "This function computes the RMSE score and displays it for us."
   ]
  },
  {
   "cell_type": "code",
   "execution_count": 9,
   "metadata": {},
   "outputs": [],
   "source": [
    "def rmse(pred,true):\n",
    "    \"\"\"Computes and prints the RMSE score\"\"\"\n",
    "    score = np.sqrt(mean_squared_error(pred,true))\n",
    "    print('RMSE = {:.3f}'.format(score))"
   ]
  },
  {
   "cell_type": "markdown",
   "metadata": {},
   "source": [
    "I also create a matrix representation of the ratings. Each row contains the ratings for a particular user and each column contain ratings for a particular movie. Movie's which a user hasn't rated are represented with a zero. Because there are so many possible combinations of movies and users, this matrix is very sparse. Conveniently, SciPy has a class specifically for representing matrices like these."
   ]
  },
  {
   "cell_type": "code",
   "execution_count": 10,
   "metadata": {},
   "outputs": [],
   "source": [
    "# Training ratings matrix\n",
    "R_trn = sparse.csr_matrix((ratings_trn.rating,\n",
    "                                (ratings_trn.userId,ratings_trn.movieId)),\n",
    "                                shape=(n_users, n_movies))\n",
    "# All ratings matrix\n",
    "R = sparse.csr_matrix((ratings.rating,\n",
    "                                (ratings.userId,ratings.movieId)),\n",
    "                                shape=(n_users, n_movies))"
   ]
  },
  {
   "cell_type": "markdown",
   "metadata": {},
   "source": [
    "## Global, User, and Item Average"
   ]
  },
  {
   "cell_type": "markdown",
   "metadata": {},
   "source": [
    "To start off, it's always a good idea to have some lower bound results to compare to. For user-item prediction tasks like this one, there are three that are commonly used: global average, user average, and item average. I tried them each below. It turns out that user average does quite a bit better than the other two, so I'll use this as a lower bound benchmark score."
   ]
  },
  {
   "cell_type": "code",
   "execution_count": 11,
   "metadata": {},
   "outputs": [
    {
     "name": "stdout",
     "output_type": "stream",
     "text": [
      "RMSE = 1.119\n"
     ]
    }
   ],
   "source": [
    "global_average = np.mean(ratings_trn.rating)\n",
    "pred = [global_average]*len(ratings_val)\n",
    "rmse(pred,ratings_val.rating)"
   ]
  },
  {
   "cell_type": "code",
   "execution_count": 12,
   "metadata": {},
   "outputs": [
    {
     "name": "stdout",
     "output_type": "stream",
     "text": [
      "RMSE = 1.095\n"
     ]
    }
   ],
   "source": [
    "user_average = ratings_trn.groupby(['userId'])['rating'].mean()\n",
    "pred = ratings_val.apply(lambda row: user_average[row.userId], axis=1)\n",
    "rmse(pred,ratings_val.rating)"
   ]
  },
  {
   "cell_type": "code",
   "execution_count": 13,
   "metadata": {},
   "outputs": [
    {
     "name": "stdout",
     "output_type": "stream",
     "text": [
      "RMSE = 1.031\n"
     ]
    }
   ],
   "source": [
    "item_avg_trn = ratings_trn.groupby(['movieId'])['rating'].mean()\n",
    "item_avg = np.full(n_movies,global_average)\n",
    "item_avg[item_avg_trn.index] = item_avg_trn.values\n",
    "pred = ratings_val.apply(lambda row: item_avg[int(row.movieId)], axis=1)\n",
    "rmse(pred,ratings_val.rating)"
   ]
  },
  {
   "cell_type": "markdown",
   "metadata": {},
   "source": [
    "## KNN"
   ]
  },
  {
   "cell_type": "markdown",
   "metadata": {},
   "source": [
    "First up is a nearest neighbours model. This model handles both user to user and item to item collaborative filtering. I try out both and compare the results. In each case, the user or movies are mapped to a lower-rank vector representation using sklearn's TruncatedSVD. The distance metric used for determining the 'closeness' of users/movies is cosine similarity."
   ]
  },
  {
   "cell_type": "code",
   "execution_count": 14,
   "metadata": {},
   "outputs": [],
   "source": [
    "from sklearn.metrics.pairwise import cosine_similarity\n",
    "from sklearn.decomposition import TruncatedSVD\n",
    "\n",
    "class KNN(object):\n",
    "    def __init__(self, user_to_user=True):\n",
    "        self.user_to_user = user_to_user\n",
    "        \n",
    "    def fit(self, ratings, n_components=10):\n",
    "        # For user to user collaborative filtering,\n",
    "        # make rows the user ratings.\n",
    "        # For item to item collaborative filtering,\n",
    "        # make rows the movie ratings.\n",
    "        self.ratings = ratings if self.user_to_user else ratings.T\n",
    "        \n",
    "        # Get indices of rated movies\n",
    "        where_zero = np.where(self.ratings == 0)\n",
    "        self.rated_idxs = np.ones(self.ratings.shape, dtype=bool)\n",
    "        self.rated_idxs[where_zero] = False\n",
    "        \n",
    "        # Compute the mean row ratings \n",
    "        sums = self.ratings.sum(axis=1)\n",
    "        counts = self.rated_idxs.sum(axis=1)\n",
    "        self.means = np.true_divide(sums,counts, where=counts!=0)\n",
    "        self.means[self.means<0.5] = 0\n",
    "        \n",
    "        # Center ratings about the mean\n",
    "        ratings_centered = self.ratings - np.expand_dims(self.means, axis=1)\n",
    "        ratings_centered[~self.rated_idxs] = 0\n",
    "        \n",
    "        # Perform dimensionality reduction with SVD\n",
    "        SVD = TruncatedSVD(n_components=n_components, random_state=17)\n",
    "        collab_vectors = SVD.fit_transform(self.ratings)\n",
    "        self.collab_vectors = sparse.csr_matrix(collab_vectors)\n",
    "\n",
    "        # Some rows have no ratings, and therefore\n",
    "        # a zero mean saved in knn.means.\n",
    "        # Replace those with the average mean.\n",
    "        zero_mean_idxs = np.where(self.means==0)[0]\n",
    "        sum_means = np.sum(self.means)\n",
    "        count = len(self.means) - len(zero_mean_idxs)\n",
    "        avg_means = sum_means / count\n",
    "        self.means[zero_mean_idxs] = avg_means\n",
    "        \n",
    "    def get_similar(self, k, target_idx, about_idx):\n",
    "        # Get rows with ratings at the about_idx column\n",
    "        rated_idxs = np.where(self.rated_idxs[:,about_idx] == True)[0]\n",
    "        # if there are no collaborators, return None\n",
    "        if len(rated_idxs) == 0:\n",
    "            raise ValueError('No similar users')\n",
    "        # get the similarity values between target\n",
    "        # and users who have seen the movie\n",
    "        sims = cosine_similarity(self.collab_vectors[target_idx],\n",
    "                                self.collab_vectors[rated_idxs])\n",
    "        # get the k most similar users\n",
    "        top_k = sorted(zip(sims.ravel(),rated_idxs))[-k:]\n",
    "        top_k = [(sim,idx) for sim,idx in top_k if sim != 0]\n",
    "        if not top_k:\n",
    "            raise ValueError('No similar users')\n",
    "        [sims,sim_idxs] = [i for i in zip(*top_k)]\n",
    "        return list(sims), list(sim_idxs)\n",
    "    \n",
    "    def predict(self, k, user_idx, item_idx):\n",
    "        # If user to user, then users are stored\n",
    "        # in the rows and items in the columns.\n",
    "        # Vice versa otherwise.\n",
    "        if self.user_to_user:\n",
    "            row, col = int(user_idx), int(item_idx)\n",
    "        else:\n",
    "            row, col = int(item_idx), int(user_idx)\n",
    "        # Get the k most similar users \n",
    "        try:\n",
    "            sims, sim_idxs = self.get_similar(k, row, col)\n",
    "        except ValueError:\n",
    "            # If there are no similar users\n",
    "            # return the mean ratings\n",
    "            rating = self.means[row]\n",
    "        else:\n",
    "            rating = np.sum(self.ratings[sim_idxs, col] * sims) / np.sum(sims)\n",
    "        return rating"
   ]
  },
  {
   "cell_type": "markdown",
   "metadata": {},
   "source": [
    "### Item to Item Collaborative Filtering"
   ]
  },
  {
   "cell_type": "markdown",
   "metadata": {},
   "source": [
    "Here I create the `KNN` model and fit it to the data. It takes a matrix representation of the ratings as input, so I feed in `R_trn` which we constructed above. `KNN.fit()` is doing all the heavy lifting of preparing the data for predictions later. It normalizes the matrix, deals with empty columns/rows, and performs the dimensionality reduction. The `user_to_user` parameter controls whether or not the model is doing user-to-user or item-to-item collaborative filtering."
   ]
  },
  {
   "cell_type": "code",
   "execution_count": 15,
   "metadata": {},
   "outputs": [],
   "source": [
    "knn = KNN(user_to_user=False)\n",
    "knn.fit(R_trn.toarray())"
   ]
  },
  {
   "cell_type": "code",
   "execution_count": 16,
   "metadata": {},
   "outputs": [
    {
     "name": "stdout",
     "output_type": "stream",
     "text": [
      "RMSE = 1.026\n"
     ]
    }
   ],
   "source": [
    "k = 25 # number of neighbours to compare to\n",
    "pred = ratings_val.apply(lambda row: knn.predict(k,row.userId,row.movieId), axis=1)\n",
    "rmse(pred,ratings_val.rating)"
   ]
  },
  {
   "cell_type": "code",
   "execution_count": 17,
   "metadata": {},
   "outputs": [
    {
     "name": "stdout",
     "output_type": "stream",
     "text": [
      "RMSE = 1.036\n"
     ]
    }
   ],
   "source": [
    "k = 50 # number of neighbours to compare to\n",
    "pred = ratings_val.apply(lambda row: knn.predict(k,row.userId,row.movieId), axis=1)\n",
    "rmse(pred,ratings_val.rating)"
   ]
  },
  {
   "cell_type": "code",
   "execution_count": 18,
   "metadata": {},
   "outputs": [
    {
     "name": "stdout",
     "output_type": "stream",
     "text": [
      "RMSE = 1.085\n"
     ]
    }
   ],
   "source": [
    "k = 237 # number of neighbours to compare to\n",
    "pred = ratings_val.apply(lambda row: knn.predict(k,row.userId,row.movieId), axis=1)\n",
    "rmse(pred,ratings_val.rating)"
   ]
  },
  {
   "cell_type": "markdown",
   "metadata": {},
   "source": [
    "### User to User Collaborative Filtering"
   ]
  },
  {
   "cell_type": "markdown",
   "metadata": {},
   "source": [
    "Same thing as above but using user to user collaborative filtering now."
   ]
  },
  {
   "cell_type": "code",
   "execution_count": 19,
   "metadata": {},
   "outputs": [],
   "source": [
    "knn = KNN(user_to_user=True)\n",
    "knn.fit(R_trn.toarray())"
   ]
  },
  {
   "cell_type": "code",
   "execution_count": 20,
   "metadata": {},
   "outputs": [
    {
     "name": "stdout",
     "output_type": "stream",
     "text": [
      "RMSE = 1.025\n"
     ]
    }
   ],
   "source": [
    "k = 25 # number of neighbours to compare to\n",
    "pred = ratings_val.apply(lambda row: knn.predict(k,row.userId,row.movieId), axis=1)\n",
    "rmse(pred,ratings_val.rating)"
   ]
  },
  {
   "cell_type": "code",
   "execution_count": null,
   "metadata": {},
   "outputs": [],
   "source": [
    "k = 50 # number of neighbours to compare to\n",
    "pred = ratings_val.apply(lambda row: knn.predict(k,row.userId,row.movieId), axis=1)\n",
    "rmse(pred,ratings_val.rating)"
   ]
  },
  {
   "cell_type": "markdown",
   "metadata": {},
   "source": [
    "## Set up for Pytorch Models"
   ]
  },
  {
   "cell_type": "markdown",
   "metadata": {},
   "source": [
    "The rest of the models are coded up using Pytorch. I start by importing in everything I need, and creating dataloaders for the training and validation set. "
   ]
  },
  {
   "cell_type": "code",
   "execution_count": 23,
   "metadata": {},
   "outputs": [],
   "source": [
    "import torch\n",
    "from torch.utils.data import TensorDataset, DataLoader\n",
    "from torch.autograd import Variable\n",
    "import torch.nn as nn\n",
    "import torch.nn.functional as F\n",
    "import torch.optim as optim"
   ]
  },
  {
   "cell_type": "code",
   "execution_count": 24,
   "metadata": {},
   "outputs": [],
   "source": [
    "# Training set dataloader\n",
    "m = torch.from_numpy(ratings_trn.movieId.values).long()\n",
    "u = torch.from_numpy(ratings_trn.userId.values).long()\n",
    "y = torch.from_numpy(ratings_trn.rating.values).view(-1,1).float()\n",
    "x = torch.stack([u,m],dim=1)\n",
    "dataset = TensorDataset(x,y)\n",
    "trainloader = DataLoader(dataset, batch_size=64, \n",
    "                         shuffle=True, num_workers=2)\n",
    "# Validation set dataloader\n",
    "m = torch.from_numpy(ratings_val.movieId.values).long()\n",
    "u = torch.from_numpy(ratings_val.userId.values).long()\n",
    "y = torch.from_numpy(ratings_val.rating.values).view(-1,1).float()\n",
    "x = torch.stack([u,m],dim=1)\n",
    "dataset = TensorDataset(x,y)\n",
    "validloader = DataLoader(dataset, batch_size=64, \n",
    "                         shuffle=True, num_workers=2)"
   ]
  },
  {
   "cell_type": "markdown",
   "metadata": {},
   "source": [
    "I also created some helper classes and functions to streamline the training process. I didn't include them in this notebook to keep things a little cleaner, and they're not necessary for understanding the models. But if you want to dig into those, you can find them in the same [repo](https://github.com/TipTop314/movie-lens) as this notebook. "
   ]
  },
  {
   "cell_type": "code",
   "execution_count": 25,
   "metadata": {},
   "outputs": [
    {
     "ename": "ModuleNotFoundError",
     "evalue": "No module named 'learning'",
     "output_type": "error",
     "traceback": [
      "\u001b[0;31m---------------------------------------------------------------------------\u001b[0m",
      "\u001b[0;31mModuleNotFoundError\u001b[0m                       Traceback (most recent call last)",
      "\u001b[0;32m<ipython-input-25-997a10cf4d4d>\u001b[0m in \u001b[0;36m<module>\u001b[0;34m()\u001b[0m\n\u001b[0;32m----> 1\u001b[0;31m \u001b[0;32mfrom\u001b[0m \u001b[0mlearning\u001b[0m \u001b[0;32mimport\u001b[0m \u001b[0mModelOptimizer\u001b[0m\u001b[0;34m,\u001b[0m \u001b[0mCosAnneal\u001b[0m\u001b[0;34m,\u001b[0m \u001b[0mfit_model\u001b[0m\u001b[0;34m\u001b[0m\u001b[0m\n\u001b[0m",
      "\u001b[0;31mModuleNotFoundError\u001b[0m: No module named 'learning'"
     ]
    }
   ],
   "source": [
    "from learning import ModelOptimizer, CosAnneal, fit_model"
   ]
  },
  {
   "cell_type": "markdown",
   "metadata": {},
   "source": [
    "`Model Optimizer` wraps around a pytorch optimizer. It's mostly just book keeping.<br>\n",
    "`CosAnneal` is a learning rate scheduler which adapts the learning rate during training.<br>\n",
    "`fit_model` takes the model and performs however many epochs of training you tell it to.<br>"
   ]
  },
  {
   "cell_type": "markdown",
   "metadata": {},
   "source": [
    "## Baseline"
   ]
  },
  {
   "cell_type": "markdown",
   "metadata": {},
   "source": [
    "This model starts with a global average rating across all movies and users. During training, the model learns baseline offsets for each user and movie. These offsets represent how far the ratings of a particular user/movie tend to be away from the global average. The sum of the global average, user baseline, and movie baseline is the final prediction."
   ]
  },
  {
   "cell_type": "code",
   "execution_count": 27,
   "metadata": {},
   "outputs": [],
   "source": [
    "class Baseline(nn.Module):\n",
    "    def __init__(self, mu, n_users, n_movies):\n",
    "        super(Baseline, self).__init__()\n",
    "        #self.linear = nn.Linear(1, 1)  # input and output is 1 dimension\n",
    "        self.mu = Variable(torch.Tensor([mu]), requires_grad=False)\n",
    "        self.bu = nn.Parameter(torch.zeros(n_users))\n",
    "        self.bi = nn.Parameter(torch.zeros(n_movies))\n",
    "        \n",
    "    def forward(self, userId, movieId):\n",
    "        out = self.mu + self.bu[userId] + self.bi[movieId]\n",
    "        return out"
   ]
  },
  {
   "cell_type": "code",
   "execution_count": 28,
   "metadata": {},
   "outputs": [],
   "source": [
    "# Build model\n",
    "mu = ratings_trn.rating.mean()\n",
    "model =Baseline(mu, n_users, n_movies)\n",
    "# Instantiate optimizer and learning rate scheduler\n",
    "#opt = ModelOptimizer(optim.Adam, model, lr=1e-2, wd=2e-4)\n",
    "#sched = CosAnneal(opt, len(trainloader))\n",
    "opt = optim.Adam(lr=1e-2, weight_decay=2e-4, params=model.parameters())\n",
    "loss_fn = torch.nn.MSELoss()"
   ]
  },
  {
   "cell_type": "code",
   "execution_count": 71,
   "metadata": {},
   "outputs": [
    {
     "name": "stdout",
     "output_type": "stream",
     "text": [
      "tensor([[ 8164,   813],\n",
      "        [   54,   769],\n",
      "        [ 4389,   627],\n",
      "        [ 5277,   605],\n",
      "        [ 8750,   129],\n",
      "        [ 7536,   704],\n",
      "        [ 6745,   416],\n",
      "        [ 8633,     7],\n",
      "        [ 6477,   595],\n",
      "        [ 9331,   106],\n",
      "        [ 3606,   656],\n",
      "        [ 1738,   312],\n",
      "        [ 9907,    62],\n",
      "        [ 6411,    58],\n",
      "        [ 7920,   662],\n",
      "        [ 7013,   788],\n",
      "        [ 2497,    61],\n",
      "        [ 6738,   595],\n",
      "        [ 2428,   741],\n",
      "        [ 4439,    12],\n",
      "        [ 8872,   635],\n",
      "        [ 5384,   804],\n",
      "        [  678,   181],\n",
      "        [ 8454,   631],\n",
      "        [ 4229,   330],\n",
      "        [ 1509,   244],\n",
      "        [ 1728,   642],\n",
      "        [ 5676,   727],\n",
      "        [ 2419,   432],\n",
      "        [ 2727,   259],\n",
      "        [ 5705,   158],\n",
      "        [ 9143,   425],\n",
      "        [ 6326,   646],\n",
      "        [ 8105,   986],\n",
      "        [ 6112,   617],\n",
      "        [ 2788,   155],\n",
      "        [ 8821,   201],\n",
      "        [ 6184,   422],\n",
      "        [ 1671,   533],\n",
      "        [ 3377,   649],\n",
      "        [ 2101,    95],\n",
      "        [ 9627,   545],\n",
      "        [ 4909,     7],\n",
      "        [  269,   321],\n",
      "        [ 6771,   147],\n",
      "        [ 6507,   637],\n",
      "        [ 1667,   941],\n",
      "        [ 3854,    36],\n",
      "        [ 8097,   862],\n",
      "        [ 7871,   842],\n",
      "        [ 2287,   652],\n",
      "        [ 4130,    58],\n",
      "        [   34,   323],\n",
      "        [ 2700,   807],\n",
      "        [ 1447,   476],\n",
      "        [ 9612,   944],\n",
      "        [ 6367,   398],\n",
      "        [ 2914,   596],\n",
      "        [  974,   637],\n",
      "        [  215,   225],\n",
      "        [ 2117,   177],\n",
      "        [ 4313,   401],\n",
      "        [ 6146,   551],\n",
      "        [ 5528,   137]])\n",
      "tensor([ 8164,    54,  4389,  5277,  8750,  7536,  6745,  8633,  6477,\n",
      "         9331,  3606,  1738,  9907,  6411,  7920,  7013,  2497,  6738,\n",
      "         2428,  4439,  8872,  5384,   678,  8454,  4229,  1509,  1728,\n",
      "         5676,  2419,  2727,  5705,  9143,  6326,  8105,  6112,  2788,\n",
      "         8821,  6184,  1671,  3377,  2101,  9627,  4909,   269,  6771,\n",
      "         6507,  1667,  3854,  8097,  7871,  2287,  4130,    34,  2700,\n",
      "         1447,  9612,  6367,  2914,   974,   215,  2117,  4313,  6146,\n",
      "         5528])\n"
     ]
    },
    {
     "ename": "TypeError",
     "evalue": "mul() received an invalid combination of arguments - got (numpy.int64), but expected one of:\n * (Tensor other)\n      didn't match because some of the arguments have invalid types: (\u001b[31;1mnumpy.int64\u001b[0m)\n * (float other)\n      didn't match because some of the arguments have invalid types: (\u001b[31;1mnumpy.int64\u001b[0m)\n",
     "output_type": "error",
     "traceback": [
      "\u001b[0;31m---------------------------------------------------------------------------\u001b[0m",
      "\u001b[0;31mTypeError\u001b[0m                                 Traceback (most recent call last)",
      "\u001b[0;32m<ipython-input-71-6ff3ef677ed2>\u001b[0m in \u001b[0;36m<module>\u001b[0;34m()\u001b[0m\n\u001b[1;32m      6\u001b[0m         \u001b[0mprint\u001b[0m\u001b[0;34m(\u001b[0m\u001b[0minputs\u001b[0m\u001b[0;34m)\u001b[0m\u001b[0;34m\u001b[0m\u001b[0m\n\u001b[1;32m      7\u001b[0m         \u001b[0mprint\u001b[0m\u001b[0;34m(\u001b[0m\u001b[0minputs\u001b[0m\u001b[0;34m[\u001b[0m\u001b[0;34m:\u001b[0m\u001b[0;34m,\u001b[0m\u001b[0;36m0\u001b[0m\u001b[0;34m]\u001b[0m\u001b[0;34m)\u001b[0m\u001b[0;34m\u001b[0m\u001b[0m\n\u001b[0;32m----> 8\u001b[0;31m         \u001b[0moutputs\u001b[0m \u001b[0;34m=\u001b[0m \u001b[0mmodel\u001b[0m\u001b[0;34m(\u001b[0m\u001b[0minputs\u001b[0m\u001b[0;34m[\u001b[0m\u001b[0;34m:\u001b[0m\u001b[0;34m,\u001b[0m\u001b[0;36m0\u001b[0m\u001b[0;34m]\u001b[0m\u001b[0;34m.\u001b[0m\u001b[0mview\u001b[0m\u001b[0;34m(\u001b[0m\u001b[0;34m-\u001b[0m\u001b[0;36m1\u001b[0m\u001b[0;34m,\u001b[0m\u001b[0;36m1\u001b[0m\u001b[0;34m)\u001b[0m\u001b[0;34m,\u001b[0m \u001b[0minputs\u001b[0m\u001b[0;34m[\u001b[0m\u001b[0;34m:\u001b[0m\u001b[0;34m,\u001b[0m\u001b[0;36m1\u001b[0m\u001b[0;34m]\u001b[0m\u001b[0;34m.\u001b[0m\u001b[0mview\u001b[0m\u001b[0;34m(\u001b[0m\u001b[0;34m-\u001b[0m\u001b[0;36m1\u001b[0m\u001b[0;34m,\u001b[0m\u001b[0;36m1\u001b[0m\u001b[0;34m)\u001b[0m\u001b[0;34m)\u001b[0m\u001b[0;34m\u001b[0m\u001b[0m\n\u001b[0m\u001b[1;32m      9\u001b[0m \u001b[0;34m\u001b[0m\u001b[0m\n\u001b[1;32m     10\u001b[0m         \u001b[0mopt\u001b[0m\u001b[0;34m.\u001b[0m\u001b[0mzero_grad\u001b[0m\u001b[0;34m(\u001b[0m\u001b[0;34m)\u001b[0m\u001b[0;34m\u001b[0m\u001b[0m\n",
      "\u001b[0;32m~/Desktop/cil_cf/lib/python3.6/site-packages/torch/nn/modules/module.py\u001b[0m in \u001b[0;36m__call__\u001b[0;34m(self, *input, **kwargs)\u001b[0m\n\u001b[1;32m    489\u001b[0m             \u001b[0mresult\u001b[0m \u001b[0;34m=\u001b[0m \u001b[0mself\u001b[0m\u001b[0;34m.\u001b[0m\u001b[0m_slow_forward\u001b[0m\u001b[0;34m(\u001b[0m\u001b[0;34m*\u001b[0m\u001b[0minput\u001b[0m\u001b[0;34m,\u001b[0m \u001b[0;34m**\u001b[0m\u001b[0mkwargs\u001b[0m\u001b[0;34m)\u001b[0m\u001b[0;34m\u001b[0m\u001b[0m\n\u001b[1;32m    490\u001b[0m         \u001b[0;32melse\u001b[0m\u001b[0;34m:\u001b[0m\u001b[0;34m\u001b[0m\u001b[0m\n\u001b[0;32m--> 491\u001b[0;31m             \u001b[0mresult\u001b[0m \u001b[0;34m=\u001b[0m \u001b[0mself\u001b[0m\u001b[0;34m.\u001b[0m\u001b[0mforward\u001b[0m\u001b[0;34m(\u001b[0m\u001b[0;34m*\u001b[0m\u001b[0minput\u001b[0m\u001b[0;34m,\u001b[0m \u001b[0;34m**\u001b[0m\u001b[0mkwargs\u001b[0m\u001b[0;34m)\u001b[0m\u001b[0;34m\u001b[0m\u001b[0m\n\u001b[0m\u001b[1;32m    492\u001b[0m         \u001b[0;32mfor\u001b[0m \u001b[0mhook\u001b[0m \u001b[0;32min\u001b[0m \u001b[0mself\u001b[0m\u001b[0;34m.\u001b[0m\u001b[0m_forward_hooks\u001b[0m\u001b[0;34m.\u001b[0m\u001b[0mvalues\u001b[0m\u001b[0;34m(\u001b[0m\u001b[0;34m)\u001b[0m\u001b[0;34m:\u001b[0m\u001b[0;34m\u001b[0m\u001b[0m\n\u001b[1;32m    493\u001b[0m             \u001b[0mhook_result\u001b[0m \u001b[0;34m=\u001b[0m \u001b[0mhook\u001b[0m\u001b[0;34m(\u001b[0m\u001b[0mself\u001b[0m\u001b[0;34m,\u001b[0m \u001b[0minput\u001b[0m\u001b[0;34m,\u001b[0m \u001b[0mresult\u001b[0m\u001b[0;34m)\u001b[0m\u001b[0;34m\u001b[0m\u001b[0m\n",
      "\u001b[0;32m<ipython-input-36-27d77e791b79>\u001b[0m in \u001b[0;36mforward\u001b[0;34m(self, user_idxs, movie_idxs)\u001b[0m\n\u001b[1;32m     17\u001b[0m         \u001b[0mum\u001b[0m \u001b[0;34m=\u001b[0m \u001b[0;34m(\u001b[0m\u001b[0mself\u001b[0m\u001b[0;34m.\u001b[0m\u001b[0mu\u001b[0m\u001b[0;34m(\u001b[0m\u001b[0muser_idxs\u001b[0m\u001b[0;34m)\u001b[0m\u001b[0;34m*\u001b[0m\u001b[0mself\u001b[0m\u001b[0;34m.\u001b[0m\u001b[0mm\u001b[0m\u001b[0;34m(\u001b[0m\u001b[0mmovie_idxs\u001b[0m\u001b[0;34m)\u001b[0m\u001b[0;34m)\u001b[0m\u001b[0;34m.\u001b[0m\u001b[0msum\u001b[0m\u001b[0;34m(\u001b[0m\u001b[0;36m1\u001b[0m\u001b[0;34m)\u001b[0m\u001b[0;34m\u001b[0m\u001b[0m\n\u001b[1;32m     18\u001b[0m         \u001b[0mr\u001b[0m \u001b[0;34m=\u001b[0m \u001b[0mum\u001b[0m \u001b[0;34m+\u001b[0m \u001b[0mself\u001b[0m\u001b[0;34m.\u001b[0m\u001b[0mub\u001b[0m\u001b[0;34m[\u001b[0m\u001b[0muser_idxs\u001b[0m\u001b[0;34m]\u001b[0m \u001b[0;34m+\u001b[0m \u001b[0mself\u001b[0m\u001b[0;34m.\u001b[0m\u001b[0mmb\u001b[0m\u001b[0;34m[\u001b[0m\u001b[0mmovie_idxs\u001b[0m\u001b[0;34m]\u001b[0m\u001b[0;34m\u001b[0m\u001b[0m\n\u001b[0;32m---> 19\u001b[0;31m         \u001b[0;32mreturn\u001b[0m \u001b[0mF\u001b[0m\u001b[0;34m.\u001b[0m\u001b[0msigmoid\u001b[0m\u001b[0;34m(\u001b[0m\u001b[0mr\u001b[0m\u001b[0;34m)\u001b[0m \u001b[0;34m*\u001b[0m \u001b[0;34m(\u001b[0m\u001b[0mself\u001b[0m\u001b[0;34m.\u001b[0m\u001b[0mr_max\u001b[0m \u001b[0;34m-\u001b[0m \u001b[0mself\u001b[0m\u001b[0;34m.\u001b[0m\u001b[0mr_min\u001b[0m\u001b[0;34m)\u001b[0m \u001b[0;34m+\u001b[0m \u001b[0mself\u001b[0m\u001b[0;34m.\u001b[0m\u001b[0mr_min\u001b[0m\u001b[0;34m\u001b[0m\u001b[0m\n\u001b[0m",
      "\u001b[0;31mTypeError\u001b[0m: mul() received an invalid combination of arguments - got (numpy.int64), but expected one of:\n * (Tensor other)\n      didn't match because some of the arguments have invalid types: (\u001b[31;1mnumpy.int64\u001b[0m)\n * (float other)\n      didn't match because some of the arguments have invalid types: (\u001b[31;1mnumpy.int64\u001b[0m)\n"
     ]
    }
   ],
   "source": [
    "#fit_model(model, 3, opt, F.mse_loss, sched, trainloader, validloader)\n",
    "epochs = 3\n",
    "for epoch in range(epochs):\n",
    "    for i, data in enumerate(trainloader):\n",
    "        inputs,labels = data\n",
    "        print(inputs)\n",
    "        print(inputs[:,0])\n",
    "        outputs = model(inputs[:,0].view(-1,1), inputs[:,1].view(-1,1))\n",
    "        \n",
    "        opt.zero_grad()\n",
    "        loss = loss_fn(outputs, labels)\n",
    "        loss.backward()\n",
    "        opt.step()"
   ]
  },
  {
   "cell_type": "code",
   "execution_count": 871,
   "metadata": {},
   "outputs": [
    {
     "name": "stdout",
     "output_type": "stream",
     "text": [
      "RMSE = 0.894\n"
     ]
    }
   ],
   "source": [
    "# get prediction and score\n",
    "u = Variable(torch.LongTensor(ratings_val.userId.values))\n",
    "m = Variable(torch.LongTensor(ratings_val.movieId.values))\n",
    "pred_val = model(u, m).data.numpy()\n",
    "rmse(pred_val, ratings_val.rating.values)"
   ]
  },
  {
   "cell_type": "markdown",
   "metadata": {},
   "source": [
    "## SVD"
   ]
  },
  {
   "cell_type": "markdown",
   "metadata": {},
   "source": [
    "This model learns a vector representation for each user and movie. The idea here is that we can learn abstract features for the movies, and learn user's preferences for each of them. If we know the type of movie a user likes (represented by a vector) and how much each movie corresponds to each movie type (also represented by a vector), these may be useful for predicting a user's preference for movies they haven't seen."
   ]
  },
  {
   "cell_type": "code",
   "execution_count": 36,
   "metadata": {},
   "outputs": [],
   "source": [
    "def get_emb(n_embeds, embed_size):\n",
    "    embed = nn.Embedding(n_embeds, embed_size)\n",
    "    embed.weight.data.uniform_(-0.05,0.05)\n",
    "    return embed\n",
    "\n",
    "class SVD(nn.Module):\n",
    "    def __init__(self, n_users, n_movies, r_min, r_max, n_factors=50):\n",
    "        super().__init__()\n",
    "        self.u = get_emb(n_users, n_factors)\n",
    "        self.m = get_emb(n_movies, n_factors)\n",
    "        self.ub = nn.Parameter(torch.zeros(n_users))\n",
    "        self.mb = nn.Parameter(torch.zeros(n_movies))\n",
    "        self.r_min = r_min\n",
    "        self.r_max = r_max\n",
    "        \n",
    "    def forward(self, user_idxs, movie_idxs):\n",
    "        um = (self.u(user_idxs)*self.m(movie_idxs)).sum(1)\n",
    "        r = um + self.ub[user_idxs] + self.mb[movie_idxs]\n",
    "        return F.sigmoid(r) * (self.r_max - self.r_min) + self.r_min"
   ]
  },
  {
   "cell_type": "code",
   "execution_count": 37,
   "metadata": {},
   "outputs": [],
   "source": [
    "# Build model\n",
    "r_min, r_max = ratings_trn.rating.min(), ratings_trn.rating.max()\n",
    "model = SVD(n_users, n_movies, r_min, r_max)\n",
    "# Instantiate optimizer and learning rate scheduler\n",
    "#opt = ModelOptimizer(optim.Adam, model, lr=1e-2, wd=2e-4)\n",
    "#sched = CosAnneal(opt, len(trainloader))\n",
    "opt = optim.Adam(lr=1e-2, weight_decay=2e-4, params=model.parameters())\n",
    "loss_fn = torch.nn.MSELoss()"
   ]
  },
  {
   "cell_type": "code",
   "execution_count": 38,
   "metadata": {},
   "outputs": [
    {
     "ename": "TypeError",
     "evalue": "forward() missing 1 required positional argument: 'movie_idxs'",
     "output_type": "error",
     "traceback": [
      "\u001b[0;31m---------------------------------------------------------------------------\u001b[0m",
      "\u001b[0;31mTypeError\u001b[0m                                 Traceback (most recent call last)",
      "\u001b[0;32m<ipython-input-38-4e1b79e72ae5>\u001b[0m in \u001b[0;36m<module>\u001b[0;34m()\u001b[0m\n\u001b[1;32m      5\u001b[0m         \u001b[0mdata\u001b[0m\u001b[0;34m,\u001b[0m \u001b[0mtarget\u001b[0m \u001b[0;34m=\u001b[0m \u001b[0mVariable\u001b[0m\u001b[0;34m(\u001b[0m\u001b[0mdata\u001b[0m\u001b[0;34m)\u001b[0m\u001b[0;34m,\u001b[0m \u001b[0mVariable\u001b[0m\u001b[0;34m(\u001b[0m\u001b[0mtarget\u001b[0m\u001b[0;34m)\u001b[0m\u001b[0;34m\u001b[0m\u001b[0m\n\u001b[1;32m      6\u001b[0m         \u001b[0mopt\u001b[0m\u001b[0;34m.\u001b[0m\u001b[0mzero_grad\u001b[0m\u001b[0;34m(\u001b[0m\u001b[0;34m)\u001b[0m\u001b[0;34m\u001b[0m\u001b[0m\n\u001b[0;32m----> 7\u001b[0;31m         \u001b[0mnet_out\u001b[0m \u001b[0;34m=\u001b[0m \u001b[0mmodel\u001b[0m\u001b[0;34m(\u001b[0m\u001b[0mdata\u001b[0m\u001b[0;34m)\u001b[0m\u001b[0;34m\u001b[0m\u001b[0m\n\u001b[0m\u001b[1;32m      8\u001b[0m         \u001b[0mloss\u001b[0m \u001b[0;34m=\u001b[0m \u001b[0mloss_fn\u001b[0m\u001b[0;34m(\u001b[0m\u001b[0mnet_out\u001b[0m\u001b[0;34m,\u001b[0m \u001b[0mtarget\u001b[0m\u001b[0;34m)\u001b[0m\u001b[0;34m\u001b[0m\u001b[0m\n\u001b[1;32m      9\u001b[0m         \u001b[0mloss\u001b[0m\u001b[0;34m.\u001b[0m\u001b[0mbackward\u001b[0m\u001b[0;34m(\u001b[0m\u001b[0;34m)\u001b[0m\u001b[0;34m\u001b[0m\u001b[0m\n",
      "\u001b[0;32m~/Desktop/cil_cf/lib/python3.6/site-packages/torch/nn/modules/module.py\u001b[0m in \u001b[0;36m__call__\u001b[0;34m(self, *input, **kwargs)\u001b[0m\n\u001b[1;32m    489\u001b[0m             \u001b[0mresult\u001b[0m \u001b[0;34m=\u001b[0m \u001b[0mself\u001b[0m\u001b[0;34m.\u001b[0m\u001b[0m_slow_forward\u001b[0m\u001b[0;34m(\u001b[0m\u001b[0;34m*\u001b[0m\u001b[0minput\u001b[0m\u001b[0;34m,\u001b[0m \u001b[0;34m**\u001b[0m\u001b[0mkwargs\u001b[0m\u001b[0;34m)\u001b[0m\u001b[0;34m\u001b[0m\u001b[0m\n\u001b[1;32m    490\u001b[0m         \u001b[0;32melse\u001b[0m\u001b[0;34m:\u001b[0m\u001b[0;34m\u001b[0m\u001b[0m\n\u001b[0;32m--> 491\u001b[0;31m             \u001b[0mresult\u001b[0m \u001b[0;34m=\u001b[0m \u001b[0mself\u001b[0m\u001b[0;34m.\u001b[0m\u001b[0mforward\u001b[0m\u001b[0;34m(\u001b[0m\u001b[0;34m*\u001b[0m\u001b[0minput\u001b[0m\u001b[0;34m,\u001b[0m \u001b[0;34m**\u001b[0m\u001b[0mkwargs\u001b[0m\u001b[0;34m)\u001b[0m\u001b[0;34m\u001b[0m\u001b[0m\n\u001b[0m\u001b[1;32m    492\u001b[0m         \u001b[0;32mfor\u001b[0m \u001b[0mhook\u001b[0m \u001b[0;32min\u001b[0m \u001b[0mself\u001b[0m\u001b[0;34m.\u001b[0m\u001b[0m_forward_hooks\u001b[0m\u001b[0;34m.\u001b[0m\u001b[0mvalues\u001b[0m\u001b[0;34m(\u001b[0m\u001b[0;34m)\u001b[0m\u001b[0;34m:\u001b[0m\u001b[0;34m\u001b[0m\u001b[0m\n\u001b[1;32m    493\u001b[0m             \u001b[0mhook_result\u001b[0m \u001b[0;34m=\u001b[0m \u001b[0mhook\u001b[0m\u001b[0;34m(\u001b[0m\u001b[0mself\u001b[0m\u001b[0;34m,\u001b[0m \u001b[0minput\u001b[0m\u001b[0;34m,\u001b[0m \u001b[0mresult\u001b[0m\u001b[0;34m)\u001b[0m\u001b[0;34m\u001b[0m\u001b[0m\n",
      "\u001b[0;31mTypeError\u001b[0m: forward() missing 1 required positional argument: 'movie_idxs'"
     ]
    }
   ],
   "source": [
    "#fit_model(model, 3, opt, F.mse_loss, sched, trainloader, validloader)\n",
    "epochs = 3\n",
    "for epoch in range(epochs):\n",
    "    for batch_idx, (data, target) in enumerate(trainloader):\n",
    "        data, target = Variable(data), Variable(target)\n",
    "        opt.zero_grad()\n",
    "        net_out = model(data)\n",
    "        loss = loss_fn(net_out, target)\n",
    "        loss.backward()\n",
    "        optimizer.step()"
   ]
  },
  {
   "cell_type": "code",
   "execution_count": 875,
   "metadata": {},
   "outputs": [
    {
     "name": "stdout",
     "output_type": "stream",
     "text": [
      "RMSE = 0.881\n"
     ]
    }
   ],
   "source": [
    "# get prediction and score\n",
    "u = Variable(torch.LongTensor(ratings_val.userId.values))\n",
    "m = Variable(torch.LongTensor(ratings_val.movieId.values))\n",
    "pred_val = model(u, m).data.numpy()\n",
    "rmse(pred_val, ratings_val.rating.values)"
   ]
  },
  {
   "cell_type": "markdown",
   "metadata": {},
   "source": [
    "## SVDnet"
   ]
  },
  {
   "cell_type": "markdown",
   "metadata": {},
   "source": [
    "This model just builds off the same idea as SVD. It starts by learning vector representations for the users and movies, but instead of multiplying the vectors together, we feed them into a neural network. Once again, we're trying to learn useful user and movie vectors, but now we're also learning a network which can take those vectors as input and output movie ratings. This whole stack can be optimized through backpropagation."
   ]
  },
  {
   "cell_type": "code",
   "execution_count": 876,
   "metadata": {
    "collapsed": true
   },
   "outputs": [],
   "source": [
    "class SVDNet(nn.Module):\n",
    "    def __init__(self, n_users, n_movies, r_min, r_max,\n",
    "                 n_factors=50, nh=10, p1=0.05, p2=0.5):\n",
    "        super().__init__()\n",
    "        self.r_min = r_min\n",
    "        self.r_max = r_max\n",
    "        # User and Movie Embeddings\n",
    "        self.u = get_emb(n_users, n_factors)\n",
    "        self.m = get_emb(n_movies, n_factors)\n",
    "        # Network layers\n",
    "        self.lin1 = nn.Linear(n_factors*2, nh)\n",
    "        self.lin2 = nn.Linear(nh, 1)\n",
    "        self.drop1 = nn.Dropout(p1)\n",
    "        self.drop2 = nn.Dropout(p2)\n",
    "\n",
    "    def forward(self, user_idxs, movie_idxs):\n",
    "        # concatenate user and movie embeddings\n",
    "        x = torch.cat([self.u(user_idxs), self.m(movie_idxs)], dim=1)\n",
    "        # feed through network\n",
    "        x = self.drop1(x)\n",
    "        x = F.relu(self.lin1(x))\n",
    "        x = self.drop2(x)\n",
    "        # force output to be within the ratings range\n",
    "        out = F.sigmoid(self.lin2(x)) * (self.r_max - self.r_min) + self.r_min\n",
    "        return out"
   ]
  },
  {
   "cell_type": "code",
   "execution_count": 877,
   "metadata": {
    "collapsed": true
   },
   "outputs": [],
   "source": [
    "# Build model\n",
    "r_min, r_max = ratings_trn.rating.min(), ratings_trn.rating.max()\n",
    "model = SVDNet(n_users, n_movies, r_min, r_max, nh=10)\n",
    "# Instantiate optimizer and learning rate scheduler\n",
    "opt = ModelOptimizer(optim.Adam, model, lr=1e-2, wd=1e-5)\n",
    "callback = CosAnneal(opt, len(trainloader))"
   ]
  },
  {
   "cell_type": "code",
   "execution_count": 878,
   "metadata": {},
   "outputs": [
    {
     "name": "stdout",
     "output_type": "stream",
     "text": [
      "Epoch 1: loss = 0.988781, val = 0.810285\n",
      "Epoch 2: loss = 0.842217, val = 0.796888\n",
      "Epoch 3: loss = 0.821997, val = 0.792832\n"
     ]
    }
   ],
   "source": [
    "fit_model(model, 3, opt, F.mse_loss, callback, trainloader, validloader)"
   ]
  },
  {
   "cell_type": "code",
   "execution_count": 879,
   "metadata": {},
   "outputs": [
    {
     "name": "stdout",
     "output_type": "stream",
     "text": [
      "RMSE = 0.890\n"
     ]
    }
   ],
   "source": [
    "# get prediction and score\n",
    "u = Variable(torch.LongTensor(ratings_val.userId.values))\n",
    "m = Variable(torch.LongTensor(ratings_val.movieId.values))\n",
    "pred_val = model(u, m).data.numpy()\n",
    "rmse(pred_val, ratings_val.rating.values)"
   ]
  },
  {
   "cell_type": "markdown",
   "metadata": {},
   "source": [
    "## Results"
   ]
  },
  {
   "cell_type": "markdown",
   "metadata": {},
   "source": [
    "| Model | RMSE |\n",
    "|  -- | -- |\n",
    "| UserAvg | 0.961 |\n",
    "| Benchmark | 0.899 |\n",
    "| kNN | 0.912 |\n",
    "| Baseline | 0.894 |\n",
    "| SVD | 0.881 |\n",
    "| SVDnet | 0.890 |"
   ]
  },
  {
   "cell_type": "markdown",
   "metadata": {},
   "source": [
    "All the models performed better than a blanket prediction of the user average, so that's a good start! The first thing I noticed was that there's a clear difference between `kNN` and the last three models which all learn user and movie specific representations (note that `Baseline` also learns a representation, it's just a scalar one). `SVDnet` performed best on some validation sets (not shown here) but not others. Even when it did manage to perform better, it often took some hyperparameter tweaking to get it there. So plain `SVD` wins this round. Not only did it score the highest, but it was also the most consistent and with a simple and clean architecture to boot!"
   ]
  }
 ],
 "metadata": {
  "kernelspec": {
   "display_name": "Python 3",
   "language": "python",
   "name": "python3"
  },
  "language_info": {
   "codemirror_mode": {
    "name": "ipython",
    "version": 3
   },
   "file_extension": ".py",
   "mimetype": "text/x-python",
   "name": "python",
   "nbconvert_exporter": "python",
   "pygments_lexer": "ipython3",
   "version": "3.6.5"
  }
 },
 "nbformat": 4,
 "nbformat_minor": 2
}

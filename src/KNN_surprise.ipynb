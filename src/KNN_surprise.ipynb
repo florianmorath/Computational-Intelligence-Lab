{
 "cells": [
  {
   "cell_type": "markdown",
   "metadata": {},
   "source": [
    "# KNN\n",
    "baseline algorithm using surprise package:\n",
    "\n",
    "using `knns.KNNBaseline` algorithm from http://surprise.readthedocs.io/en/stable/prediction_algorithms_package.html"
   ]
  },
  {
   "cell_type": "code",
   "execution_count": 2,
   "metadata": {},
   "outputs": [],
   "source": [
    "import pandas as pd\n",
    "import numpy as np\n",
    "from scipy import stats\n",
    "\n",
    "from surprise.model_selection import cross_validate\n",
    "from surprise import Reader, Dataset\n",
    "from surprise.model_selection.search import RandomizedSearchCV\n",
    "from surprise.prediction_algorithms.knns import KNNBaseline\n",
    "\n",
    "import helpers\n",
    "from surprise_helpers import CustomReader, get_ratings_from_predictions"
   ]
  },
  {
   "cell_type": "markdown",
   "metadata": {},
   "source": [
    "## Data loading"
   ]
  },
  {
   "cell_type": "code",
   "execution_count": 3,
   "metadata": {},
   "outputs": [],
   "source": [
    "reader = CustomReader()\n",
    "filepath = helpers.get_train_file_path()\n",
    "data = Dataset.load_from_file(filepath, reader=reader)"
   ]
  },
  {
   "cell_type": "markdown",
   "metadata": {},
   "source": [
    "## Search over params\n"
   ]
  },
  {
   "cell_type": "code",
   "execution_count": null,
   "metadata": {},
   "outputs": [],
   "source": [
    "param_grid = {\n",
    "    'k': stats.randint(5,100),\n",
    "    'sim_options': {\n",
    "        'name': ['pearson_baseline'],\n",
    "        'shrinkage':[0,100],\n",
    "    }\n",
    "}\n",
    "gs = RandomizedSearchCV(algo_class=KNNBaseline, param_distributions=param_grid, measures=['rmse'], \n",
    "                        cv=10, joblib_verbose=100, n_jobs=-1, n_iter=5)\n",
    "gs.fit(data)\n",
    "\n",
    "# best RMSE score\n",
    "print(gs.best_score['rmse'])\n",
    "\n",
    "# combination of parameters that gave the best RMSE score\n",
    "print(gs.best_params['rmse'])"
   ]
  },
  {
   "cell_type": "code",
   "execution_count": null,
   "metadata": {},
   "outputs": [],
   "source": [
    "pd.DataFrame.from_dict(gs.cv_results)"
   ]
  },
  {
   "cell_type": "markdown",
   "metadata": {},
   "source": [
    "## Results: params \n",
    "\n",
    "note: run on Leonhard cluster (20 cores and 22GB mem) <br/>\n",
    "cv=10\n",
    "\n",
    "1.008268129160658\n",
    "{}\n",
    "\n",
    "0.991818290107\n",
    "{'k': 99, 'sim_options': {'name': 'pearson_baseline', 'shrinkage': 100, 'user_based': True}}\n",
    "\n",
    "0.991848814897\n",
    "{'k': 98, 'sim_options': {'name': 'pearson_baseline', 'shrinkage': 100, 'user_based': True}}\n",
    "\n",
    "0.991922408271\n",
    "{'k': 95, 'sim_options': {'name': 'pearson_baseline', 'shrinkage': 100, 'user_based': True}}\n",
    "\n",
    "0.992005703139\n",
    "{'k': 96, 'sim_options': {'name': 'pearson_baseline', 'shrinkage': 100, 'user_based': True}}\n",
    "\n",
    "0.992005703139\n",
    "{'k': 96, 'sim_options': {'name': 'pearson_baseline', 'shrinkage': 100, 'user_based': True}}\n",
    "\n",
    "0.992342619036\n",
    "{'k': 89, 'sim_options': {'name': 'pearson_baseline', 'shrinkage': 100, 'user_based': True}}\n",
    "\n",
    "0.992483581052\n",
    "{'k': 85, 'sim_options': {'name': 'pearson_baseline', 'shrinkage': 100, 'user_based': True}}\n",
    "\n",
    "0.992472079676\n",
    "{'k': 87, 'sim_options': {'name': 'pearson_baseline', 'shrinkage': 100, 'user_based': True}}\n",
    "\n",
    "0.992750060565\n",
    "{'k': 79, 'sim_options': {'name': 'pearson_baseline', 'shrinkage': 100, 'user_based': True}}\n",
    "\n",
    "0.993845243292\n",
    "{'k': 65, 'sim_options': {'name': 'pearson_baseline', 'shrinkage': 100, 'user_based': True}}\n",
    "\n",
    "0.997544923863\n",
    "{'k': 96, 'sim_options': {'name': 'pearson_baseline', 'shrinkage': 0, 'user_based': True}}\n",
    "\n",
    "0.998283812548\n",
    "{'k': 86, 'sim_options': {'name': 'pearson_baseline', 'shrinkage': 0, 'user_based': True}}\n"
   ]
  },
  {
   "cell_type": "markdown",
   "metadata": {},
   "source": [
    "## Train"
   ]
  },
  {
   "cell_type": "code",
   "execution_count": 3,
   "metadata": {},
   "outputs": [
    {
     "data": {
      "text/plain": [
       "<surprise.prediction_algorithms.matrix_factorization.SVDpp at 0x109d6ccc0>"
      ]
     },
     "execution_count": 3,
     "metadata": {},
     "output_type": "execute_result"
    }
   ],
   "source": [
    "# choose optimal params from above\n",
    "algo = \n",
    "\n",
    "# train \n",
    "algo.fit(data.build_full_trainset())"
   ]
  },
  {
   "cell_type": "markdown",
   "metadata": {},
   "source": [
    "## Predicting\n",
    "We load the test data to predict."
   ]
  },
  {
   "cell_type": "code",
   "execution_count": 4,
   "metadata": {},
   "outputs": [
    {
     "data": {
      "text/plain": [
       "Prediction(uid=36, iid=0, r_ui=3.0, est=3.3858988120492683, details={'was_impossible': False})"
      ]
     },
     "execution_count": 4,
     "metadata": {},
     "output_type": "execute_result"
    }
   ],
   "source": [
    "test_file_path = helpers.get_test_file_path()\n",
    "test_data = Dataset.load_from_file(test_file_path, reader=reader)\n",
    "testset = test_data.construct_testset(test_data.raw_ratings)\n",
    "predictions = algo.test(testset)\n",
    "predictions[0]"
   ]
  },
  {
   "cell_type": "markdown",
   "metadata": {},
   "source": [
    "We need to convert the predictions into the right format."
   ]
  },
  {
   "cell_type": "code",
   "execution_count": 5,
   "metadata": {},
   "outputs": [],
   "source": [
    "ratings = get_ratings_from_predictions(predictions)"
   ]
  },
  {
   "cell_type": "markdown",
   "metadata": {},
   "source": [
    "Now we can write the file."
   ]
  },
  {
   "cell_type": "code",
   "execution_count": 6,
   "metadata": {},
   "outputs": [
    {
     "name": "stdout",
     "output_type": "stream",
     "text": [
      "Id,Prediction\n",
      "r37_c1,3.385899\n",
      "r73_c1,3.124768\n",
      "r156_c1,3.766790\n",
      "r160_c1,3.321574\n",
      "r248_c1,3.561472\n",
      "r25\n"
     ]
    }
   ],
   "source": [
    "output = helpers.write_submission(ratings, 'submission_surprise_SVDpp_0.csv')\n",
    "print(output[0:100])"
   ]
  },
  {
   "cell_type": "code",
   "execution_count": null,
   "metadata": {},
   "outputs": [],
   "source": []
  }
 ],
 "metadata": {
  "kernelspec": {
   "display_name": "Python 3",
   "language": "python",
   "name": "python3"
  },
  "language_info": {
   "codemirror_mode": {
    "name": "ipython",
    "version": 3
   },
   "file_extension": ".py",
   "mimetype": "text/x-python",
   "name": "python",
   "nbconvert_exporter": "python",
   "pygments_lexer": "ipython3",
   "version": "3.6.5"
  }
 },
 "nbformat": 4,
 "nbformat_minor": 2
}

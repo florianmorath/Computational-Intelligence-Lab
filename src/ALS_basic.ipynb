{
 "cells": [
  {
   "cell_type": "markdown",
   "metadata": {},
   "source": [
    "# ALS basic"
   ]
  },
  {
   "cell_type": "markdown",
   "metadata": {},
   "source": [
    "Idea: Assume the (true) matrix X can be decomposed into two low rank matrices U and V s.t X = UV. Approximate this matrix factorization by minimizing the regularized Frobenius loss. \n",
    "\n",
    "$L(U,V) = \\sum_{(i,j)\\in I} (a_{ij}-u_i^Tv_j)^2 + \\lambda \\sum_{i=1}^m \\lVert u_i \\rVert^2 + \\lambda \\sum_{j=1}^n \\lVert v_j \\rVert^2 $\n",
    "\n",
    "Alternating Least Squares minimizes $L(U,V)$ by alternatly updating U and V based on the gradient of L."
   ]
  },
  {
   "cell_type": "code",
   "execution_count": null,
   "metadata": {},
   "outputs": [],
   "source": []
  }
 ],
 "metadata": {
  "kernelspec": {
   "display_name": "Python 3",
   "language": "python",
   "name": "python3"
  },
  "language_info": {
   "codemirror_mode": {
    "name": "ipython",
    "version": 3
   },
   "file_extension": ".py",
   "mimetype": "text/x-python",
   "name": "python",
   "nbconvert_exporter": "python",
   "pygments_lexer": "ipython3",
   "version": "3.6.5"
  }
 },
 "nbformat": 4,
 "nbformat_minor": 2
}

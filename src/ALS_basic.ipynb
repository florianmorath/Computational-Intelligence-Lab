{
 "cells": [
  {
   "cell_type": "markdown",
   "metadata": {},
   "source": [
    "# ALS basic"
   ]
  },
  {
   "cell_type": "markdown",
   "metadata": {},
   "source": [
    "Idea: Assume the (true) matrix X can be decomposed into two low rank matrices U and V s.t X = UV. Approximate this matrix factorization by minimizing the regularized Frobenius loss. \n",
    "\n",
    "$L(U,V) = \\sum_{(i,j)\\in I} (a_{ij}-u_i^Tv_j)^2 + \\lambda \\sum_{i=1}^m \\lVert u_i \\rVert^2 + \\lambda \\sum_{j=1}^n \\lVert v_j \\rVert^2 $\n",
    "\n",
    "Alternating Least Squares minimizes $L(U,V)$ by alternatly updating U and V based on the gradient of L. By keeping V fixed while updating U, the objective becomes convex (same holds for the other way around)."
   ]
  },
  {
   "cell_type": "markdown",
   "metadata": {},
   "source": [
    "Compute gradient and set equal zero:\n",
    "\n",
    "$\\frac{\\partial L(U,V)}{\\partial u_i} = 0 \\implies u_i = (\\sum_{j:(i,j)\\in I} v_j v_j^T + \\lambda I_k)^{-1} \\sum_{j:(i,j)\\in I} a_{ij} v_j$"
   ]
  },
  {
   "cell_type": "markdown",
   "metadata": {},
   "source": [
    "U and V can be initilaized randomly or can use SVD decomposition as initial guess. "
   ]
  },
  {
   "cell_type": "code",
   "execution_count": 1,
   "metadata": {},
   "outputs": [],
   "source": [
    "%matplotlib inline\n",
    "\n",
    "import numpy as np\n",
    "import matplotlib\n",
    "import matplotlib.pyplot as plt\n",
    "\n",
    "from helpers import load_data, write_submission_file"
   ]
  },
  {
   "cell_type": "markdown",
   "metadata": {},
   "source": [
    "## Load training data"
   ]
  },
  {
   "cell_type": "code",
   "execution_count": 2,
   "metadata": {},
   "outputs": [
    {
     "name": "stdout",
     "output_type": "stream",
     "text": [
      "[[0. 0. 0. 0. 0. 0. 0. 0. 0. 5.]\n",
      " [0. 0. 0. 3. 0. 5. 0. 4. 0. 0.]\n",
      " [0. 0. 0. 2. 0. 0. 0. 0. 0. 0.]\n",
      " [0. 0. 0. 0. 0. 0. 0. 0. 0. 0.]\n",
      " [0. 2. 0. 0. 0. 5. 0. 3. 0. 0.]\n",
      " [0. 0. 0. 0. 0. 5. 0. 0. 0. 0.]\n",
      " [0. 0. 0. 0. 0. 0. 0. 0. 0. 0.]\n",
      " [0. 0. 0. 0. 0. 0. 0. 0. 0. 0.]\n",
      " [0. 0. 0. 0. 0. 5. 0. 0. 0. 3.]\n",
      " [0. 0. 0. 1. 0. 5. 0. 5. 0. 0.]]\n"
     ]
    }
   ],
   "source": [
    "X = load_data()\n",
    "print(X[0:10,0:10])"
   ]
  },
  {
   "cell_type": "markdown",
   "metadata": {},
   "source": [
    "## Construct U and V"
   ]
  },
  {
   "cell_type": "code",
   "execution_count": 57,
   "metadata": {},
   "outputs": [],
   "source": [
    "k = 100\n",
    "U = np.random.uniform(high=5, low=0, size=(X.shape[0],k))\n",
    "V = np.random.uniform(high=5, low=0, size=(k,X.shape[1]))"
   ]
  },
  {
   "cell_type": "code",
   "execution_count": 6,
   "metadata": {},
   "outputs": [],
   "source": [
    "assert X.shape == U.dot(V).shape"
   ]
  },
  {
   "cell_type": "markdown",
   "metadata": {},
   "source": [
    "## ALS algorithm"
   ]
  },
  {
   "cell_type": "code",
   "execution_count": 67,
   "metadata": {},
   "outputs": [],
   "source": [
    "# construct index set I of observed indices\n",
    "I = zip(np.where(X!=0)[0], np.where(X!=0)[1]) "
   ]
  },
  {
   "cell_type": "code",
   "execution_count": 69,
   "metadata": {},
   "outputs": [
    {
     "name": "stdout",
     "output_type": "stream",
     "text": [
      "[[0. 0. 0. ... 0. 0. 0.]\n",
      " [0. 0. 0. ... 0. 0. 0.]\n",
      " [0. 0. 0. ... 0. 0. 0.]\n",
      " ...\n",
      " [0. 0. 0. ... 0. 0. 0.]\n",
      " [0. 0. 0. ... 0. 0. 0.]\n",
      " [0. 0. 0. ... 0. 0. 0.]]\n"
     ]
    }
   ],
   "source": [
    "# ALS iterations\n",
    "lam = 1\n",
    "\n",
    "# update U \n",
    "for i in range(0,X.shape[0]):\n",
    "    vvt = np.zeros((k,k))\n",
    "    av = np.zeros((k,))\n",
    "    for (i_p,j_p) in I:\n",
    "        if i == i_p:\n",
    "            vvt += np.outer(V[:,j_p],V[:,j_p])\n",
    "            print(vvt.shape)\n",
    "            av += X[i_p,j_p]*V[:,j_p]\n",
    "    U[i,:] = np.linalg.solve(vvt + lam*np.eye(k), av) \n",
    "\n",
    "# update V\n",
    "for j in range(0,X.shape[1]):\n",
    "    uut = np.zeros((k,k))\n",
    "    au = np.zeros((k,))\n",
    "    for i_p,j_p in I:\n",
    "        if j == j_p:\n",
    "            uut += np.outer(U[i_p,:],U[i_p,:])\n",
    "            print(vvt.shape)\n",
    "            au += X[i_p,j_p]*U[i_p,:]\n",
    "    V[:,j] = np.linalg.solve(uut + lam*np.eye(k), au).transpose()"
   ]
  },
  {
   "cell_type": "code",
   "execution_count": null,
   "metadata": {},
   "outputs": [],
   "source": []
  }
 ],
 "metadata": {
  "kernelspec": {
   "display_name": "Python 3",
   "language": "python",
   "name": "python3"
  },
  "language_info": {
   "codemirror_mode": {
    "name": "ipython",
    "version": 3
   },
   "file_extension": ".py",
   "mimetype": "text/x-python",
   "name": "python",
   "nbconvert_exporter": "python",
   "pygments_lexer": "ipython3",
   "version": "3.6.5"
  }
 },
 "nbformat": 4,
 "nbformat_minor": 2
}

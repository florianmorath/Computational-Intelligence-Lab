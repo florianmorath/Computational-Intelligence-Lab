{
 "cells": [
  {
   "cell_type": "markdown",
   "metadata": {},
   "source": [
    "# KNN\n",
    "baseline algorithm using surprise package:\n",
    "\n",
    "using `knns.KNNBaseline` algorithm from http://surprise.readthedocs.io/en/stable/prediction_algorithms_package.html"
   ]
  },
  {
   "cell_type": "code",
   "execution_count": 1,
   "metadata": {},
   "outputs": [],
   "source": [
    "import pandas as pd\n",
    "import numpy as np\n",
    "from scipy import stats\n",
    "\n",
    "from surprise.model_selection import cross_validate\n",
    "from surprise import Reader, Dataset\n",
    "from surprise.model_selection.search import RandomizedSearchCV\n",
    "from surprise.prediction_algorithms.knns import KNNBaseline\n",
    "\n",
    "import data_handler\n",
    "from surprise_extensions import CustomReader, get_ratings_from_predictions"
   ]
  },
  {
   "cell_type": "markdown",
   "metadata": {},
   "source": [
    "## Data loading"
   ]
  },
  {
   "cell_type": "code",
   "execution_count": 2,
   "metadata": {},
   "outputs": [],
   "source": [
    "reader = CustomReader()\n",
    "filepath = data_handler.get_train_file_path()\n",
    "data = Dataset.load_from_file(filepath, reader=reader)"
   ]
  },
  {
   "cell_type": "markdown",
   "metadata": {},
   "source": [
    "## Search over params\n"
   ]
  },
  {
   "cell_type": "code",
   "execution_count": null,
   "metadata": {},
   "outputs": [],
   "source": [
    "param_grid = {\n",
    "    'k': stats.randint(5,100),\n",
    "    'sim_options': {\n",
    "        'name': ['pearson_baseline'],\n",
    "        'shrinkage':[0,100],\n",
    "    }\n",
    "}\n",
    "gs = RandomizedSearchCV(algo_class=KNNBaseline, param_distributions=param_grid, measures=['rmse'], \n",
    "                        cv=10, joblib_verbose=100, n_jobs=-1, n_iter=5)\n",
    "gs.fit(data)\n",
    "\n",
    "# best RMSE score\n",
    "print(gs.best_score['rmse'])\n",
    "\n",
    "# combination of parameters that gave the best RMSE score\n",
    "print(gs.best_params['rmse'])"
   ]
  },
  {
   "cell_type": "code",
   "execution_count": null,
   "metadata": {},
   "outputs": [],
   "source": [
    "pd.DataFrame.from_dict(gs.cv_results)"
   ]
  },
  {
   "cell_type": "markdown",
   "metadata": {},
   "source": [
    "## Results: params \n",
    "\n",
    "note: run on Leonhard cluster (20 cores and 22GB mem) <br/>\n",
    "cv=10\n",
    "\n",
    "0.990511947895\n",
    "{'k': 237, 'sim_options': {'name': 'pearson_baseline', 'shrinkage': 279, 'user_based': True}}\n",
    "\n",
    "0.9905256316\n",
    "{'k': 244, 'sim_options': {'name': 'pearson_baseline', 'shrinkage': 256, 'user_based': True}}\n",
    "\n",
    "0.990541323231\n",
    "{'k': 283, 'sim_options': {'name': 'pearson_baseline', 'shrinkage': 489, 'user_based': True}}\n",
    "\n",
    "0.990582491183\n",
    "{'k': 303, 'sim_options': {'name': 'pearson_baseline', 'shrinkage': 396, 'user_based': True}}\n",
    "\n",
    "0.990559809349\n",
    "{'k': 287, 'sim_options': {'name': 'pearson_baseline', 'shrinkage': 420, 'user_based': True}}\n",
    "\n",
    "0.990600352326\n",
    "{'k': 239, 'sim_options': {'name': 'pearson_baseline', 'shrinkage': 455, 'user_based': True}}\n",
    "\n",
    "0.990620245289\n",
    "{'k': 286, 'sim_options': {'name': 'pearson_baseline', 'shrinkage': 285, 'user_based': True}}\n",
    "\n",
    "0.990653184151\n",
    "{'k': 215, 'sim_options': {'name': 'pearson_baseline', 'shrinkage': 254, 'user_based': True}}\n",
    "\n",
    "0.990740953266\n",
    "{'k': 269, 'sim_options': {'name': 'pearson_baseline', 'shrinkage': 293, 'user_based': True}}\n",
    "\n",
    "------\n",
    "\n",
    "0.990745916194\n",
    "{'k': 190, 'sim_options': {'name': 'pearson_baseline', 'shrinkage': 191, 'user_based': True}}\n",
    "\n",
    "0.990751578428\n",
    "{'k': 175, 'sim_options': {'name': 'pearson_baseline', 'shrinkage': 166, 'user_based': True}}\n",
    "\n",
    "0.990777929504\n",
    "{'k': 174, 'sim_options': {'name': 'pearson_baseline', 'shrinkage': 159, 'user_based': True}}\n",
    "\n",
    "0.9907865737\n",
    "{'k': 174, 'sim_options': {'name': 'pearson_baseline', 'shrinkage': 144, 'user_based': True}}\n",
    "\n",
    "0.990789001481\n",
    "{'k': 165, 'sim_options': {'name': 'pearson_baseline', 'shrinkage': 91, 'user_based': True}}\n",
    "\n",
    "0.990866512039\n",
    "{'k': 157, 'sim_options': {'name': 'pearson_baseline', 'shrinkage': 175, 'user_based': True}}\n",
    "\n",
    "0.990881215984\n",
    "{'k': 193, 'sim_options': {'name': 'pearson_baseline', 'shrinkage': 108, 'user_based': True}}\n",
    "\n",
    "0.990881263871\n",
    "{'k': 186, 'sim_options': {'name': 'pearson_baseline', 'shrinkage': 71, 'user_based': True}}\n",
    "\n",
    "0.990905733161\n",
    "{'k': 197, 'sim_options': {'name': 'pearson_baseline', 'shrinkage': 61, 'user_based': True}}\n",
    "\n",
    "0.990904062625\n",
    "{'k': 176, 'sim_options': {'name': 'pearson_baseline', 'shrinkage': 168, 'user_based': True}}\n",
    "\n",
    "0.990961856449\n",
    "{'k': 183, 'sim_options': {'name': 'pearson_baseline', 'shrinkage': 63, 'user_based': True}}\n",
    "\n",
    "0.991028325888\n",
    "{'k': 147, 'sim_options': {'name': 'pearson_baseline', 'shrinkage': 100, 'user_based': True}}\n",
    "\n",
    "0.991081017802\n",
    "{'k': 136, 'sim_options': {'name': 'pearson_baseline', 'shrinkage': 100, 'user_based': True}}\n",
    "\n",
    "0.99108224188\n",
    "{'k': 149, 'sim_options': {'name': 'pearson_baseline', 'shrinkage': 100, 'user_based': True}}\n",
    "\n",
    "0.991085028421\n",
    "{'k': 139, 'sim_options': {'name': 'pearson_baseline', 'shrinkage': 100, 'user_based': True}}\n",
    "\n",
    "0.991131609141\n",
    "{'k': 161, 'sim_options': {'name': 'pearson_baseline', 'shrinkage': 54, 'user_based': True}}\n",
    "\n",
    "0.99112466769\n",
    "{'k': 140, 'sim_options': {'name': 'pearson_baseline', 'shrinkage': 100, 'user_based': True}}\n",
    "\n",
    "0.991160936299\n",
    "{'k': 136, 'sim_options': {'name': 'pearson_baseline', 'shrinkage': 100, 'user_based': True}}\n",
    "\n",
    "0.991818290107\n",
    "{'k': 99, 'sim_options': {'name': 'pearson_baseline', 'shrinkage': 100, 'user_based': True}}\n",
    "\n",
    "0.991848814897\n",
    "{'k': 98, 'sim_options': {'name': 'pearson_baseline', 'shrinkage': 100, 'user_based': True}}\n",
    "\n",
    "0.991922408271\n",
    "{'k': 95, 'sim_options': {'name': 'pearson_baseline', 'shrinkage': 100, 'user_based': True}}\n",
    "\n",
    "0.992005703139\n",
    "{'k': 96, 'sim_options': {'name': 'pearson_baseline', 'shrinkage': 100, 'user_based': True}}\n",
    "\n",
    "0.992005703139\n",
    "{'k': 96, 'sim_options': {'name': 'pearson_baseline', 'shrinkage': 100, 'user_based': True}}\n",
    "\n",
    "0.992342619036\n",
    "{'k': 89, 'sim_options': {'name': 'pearson_baseline', 'shrinkage': 100, 'user_based': True}}\n",
    "\n",
    "0.992483581052\n",
    "{'k': 85, 'sim_options': {'name': 'pearson_baseline', 'shrinkage': 100, 'user_based': True}}\n",
    "\n",
    "0.992472079676\n",
    "{'k': 87, 'sim_options': {'name': 'pearson_baseline', 'shrinkage': 100, 'user_based': True}}\n",
    "\n",
    "0.992750060565\n",
    "{'k': 79, 'sim_options': {'name': 'pearson_baseline', 'shrinkage': 100, 'user_based': True}}\n",
    "\n",
    "0.993845243292\n",
    "{'k': 65, 'sim_options': {'name': 'pearson_baseline', 'shrinkage': 100, 'user_based': True}}\n",
    "\n",
    "0.997544923863\n",
    "{'k': 96, 'sim_options': {'name': 'pearson_baseline', 'shrinkage': 0, 'user_based': True}}\n",
    "\n",
    "0.998283812548\n",
    "{'k': 86, 'sim_options': {'name': 'pearson_baseline', 'shrinkage': 0, 'user_based': True}}\n",
    "\n",
    "1.008268129160658\n",
    "{}\n"
   ]
  },
  {
   "cell_type": "markdown",
   "metadata": {},
   "source": [
    "## Train"
   ]
  },
  {
   "cell_type": "code",
   "execution_count": 3,
   "metadata": {},
   "outputs": [
    {
     "name": "stdout",
     "output_type": "stream",
     "text": [
      "Estimating biases using als...\n",
      "Computing the pearson_baseline similarity matrix...\n",
      "Done computing similarity matrix.\n"
     ]
    },
    {
     "data": {
      "text/plain": [
       "<surprise.prediction_algorithms.knns.KNNBaseline at 0x1025fb0f0>"
      ]
     },
     "execution_count": 3,
     "metadata": {},
     "output_type": "execute_result"
    }
   ],
   "source": [
    "# choose optimal params from above\n",
    "# {'k': 237, 'sim_options': {'name': 'pearson_baseline', 'shrinkage': 279, 'user_based': True}}\n",
    "sim_options = {'name': 'pearson_baseline',\n",
    "               'shrinkage': 279,\n",
    "               'user_based': True\n",
    "               }\n",
    "algo = KNNBaseline(k=237, sim_options=sim_options)\n",
    "\n",
    "# train \n",
    "algo.fit(data.build_full_trainset())"
   ]
  },
  {
   "cell_type": "markdown",
   "metadata": {},
   "source": [
    "## Predicting\n",
    "We load the test data to predict."
   ]
  },
  {
   "cell_type": "code",
   "execution_count": 4,
   "metadata": {},
   "outputs": [
    {
     "data": {
      "text/plain": [
       "Prediction(uid=36, iid=0, r_ui=3.0, est=3.2370282594995112, details={'actual_k': 186, 'was_impossible': False})"
      ]
     },
     "execution_count": 4,
     "metadata": {},
     "output_type": "execute_result"
    }
   ],
   "source": [
    "test_file_path = data_handler.get_test_file_path()\n",
    "test_data = Dataset.load_from_file(test_file_path, reader=reader)\n",
    "testset = test_data.construct_testset(test_data.raw_ratings)\n",
    "predictions = algo.test(testset)\n",
    "predictions[0]"
   ]
  },
  {
   "cell_type": "markdown",
   "metadata": {},
   "source": [
    "We need to convert the predictions into the right format."
   ]
  },
  {
   "cell_type": "code",
   "execution_count": 5,
   "metadata": {},
   "outputs": [],
   "source": [
    "ratings = get_ratings_from_predictions(predictions)"
   ]
  },
  {
   "cell_type": "markdown",
   "metadata": {},
   "source": [
    "Now we can write the file."
   ]
  },
  {
   "cell_type": "code",
   "execution_count": 6,
   "metadata": {},
   "outputs": [
    {
     "name": "stdout",
     "output_type": "stream",
     "text": [
      "Id,Prediction\n",
      "r37_c1,3.237028\n",
      "r73_c1,2.963425\n",
      "r156_c1,3.719131\n",
      "r160_c1,3.311598\n",
      "r248_c1,3.266735\n",
      "r25\n"
     ]
    }
   ],
   "source": [
    "output = data_handler.write_submission(ratings, 'submission_surprise_KNNBaseline_1.csv')\n",
    "print(output[0:100])"
   ]
  },
  {
   "cell_type": "code",
   "execution_count": null,
   "metadata": {},
   "outputs": [],
   "source": []
  }
 ],
 "metadata": {
  "kernelspec": {
   "display_name": "Python 3",
   "language": "python",
   "name": "python3"
  },
  "language_info": {
   "codemirror_mode": {
    "name": "ipython",
    "version": 3
   },
   "file_extension": ".py",
   "mimetype": "text/x-python",
   "name": "python",
   "nbconvert_exporter": "python",
   "pygments_lexer": "ipython3",
   "version": "3.5.2"
  }
 },
 "nbformat": 4,
 "nbformat_minor": 2
}

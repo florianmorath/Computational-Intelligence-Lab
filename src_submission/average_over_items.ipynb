{
 "cells": [
  {
   "cell_type": "markdown",
   "metadata": {},
   "source": [
    "# Average over items for each user"
   ]
  },
  {
   "cell_type": "markdown",
   "metadata": {},
   "source": [
    "Idea: impute missing values by taking average rating over items for each user"
   ]
  },
  {
   "cell_type": "code",
   "execution_count": 1,
   "metadata": {},
   "outputs": [],
   "source": [
    "import numpy as np\n",
    "\n",
    "from data_handler import load_data, write_submission_file"
   ]
  },
  {
   "cell_type": "markdown",
   "metadata": {},
   "source": [
    "## Load training data"
   ]
  },
  {
   "cell_type": "code",
   "execution_count": 2,
   "metadata": {},
   "outputs": [
    {
     "name": "stdout",
     "output_type": "stream",
     "text": [
      "[[0. 0. 0. 0. 0. 0. 0. 0. 0. 5.]\n",
      " [0. 0. 0. 3. 0. 5. 0. 4. 0. 0.]\n",
      " [0. 0. 0. 2. 0. 0. 0. 0. 0. 0.]\n",
      " [0. 0. 0. 0. 0. 0. 0. 0. 0. 0.]\n",
      " [0. 2. 0. 0. 0. 5. 0. 3. 0. 0.]\n",
      " [0. 0. 0. 0. 0. 5. 0. 0. 0. 0.]\n",
      " [0. 0. 0. 0. 0. 0. 0. 0. 0. 0.]\n",
      " [0. 0. 0. 0. 0. 0. 0. 0. 0. 0.]\n",
      " [0. 0. 0. 0. 0. 5. 0. 0. 0. 3.]\n",
      " [0. 0. 0. 1. 0. 5. 0. 5. 0. 0.]]\n"
     ]
    }
   ],
   "source": [
    "X = load_data()\n",
    "print(X[0:10,0:10])"
   ]
  },
  {
   "cell_type": "markdown",
   "metadata": {},
   "source": [
    "## For each user, predict its missing entries by the average of that user's available ratings"
   ]
  },
  {
   "cell_type": "code",
   "execution_count": 3,
   "metadata": {},
   "outputs": [
    {
     "name": "stdout",
     "output_type": "stream",
     "text": [
      "[[4.0434785 4.0434785 4.0434785 4.0434785 4.0434785 4.0434785 4.0434785\n",
      "  4.0434785 4.0434785 5.       ]\n",
      " [3.771812  3.771812  3.771812  3.        3.771812  5.        3.771812\n",
      "  4.        3.771812  3.771812 ]\n",
      " [3.5232558 3.5232558 3.5232558 2.        3.5232558 3.5232558 3.5232558\n",
      "  3.5232558 3.5232558 3.5232558]\n",
      " [3.8       3.8       3.8       3.8       3.8       3.8       3.8\n",
      "  3.8       3.8       3.8      ]\n",
      " [3.9850745 2.        3.9850745 3.9850745 3.9850745 5.        3.9850745\n",
      "  3.        3.9850745 3.9850745]\n",
      " [4.3668637 4.3668637 4.3668637 4.3668637 4.3668637 5.        4.3668637\n",
      "  4.3668637 4.3668637 4.3668637]\n",
      " [4.129032  4.129032  4.129032  4.129032  4.129032  4.129032  4.129032\n",
      "  4.129032  4.129032  4.129032 ]\n",
      " [4.1153846 4.1153846 4.1153846 4.1153846 4.1153846 4.1153846 4.1153846\n",
      "  4.1153846 4.1153846 4.1153846]\n",
      " [3.97191   3.97191   3.97191   3.97191   3.97191   5.        3.97191\n",
      "  3.97191   3.97191   3.       ]\n",
      " [3.82243   3.82243   3.82243   1.        3.82243   5.        3.82243\n",
      "  5.        3.82243   3.82243  ]]\n"
     ]
    }
   ],
   "source": [
    "# y is vector containing the sums of each user's available ratings\n",
    "y = X.sum(axis=1)\n",
    "rating_counts = np.count_nonzero(X, axis =1)\n",
    "average_per_user = y/rating_counts\n",
    "X_pred = np.copy(X)\n",
    "for row in range(X.shape[0]):\n",
    "    no_rating = (X[row, :] == 0)\n",
    "    X_pred[row, no_rating] = average_per_user[row]\n",
    "print(X_pred[0:10, 0:10])"
   ]
  },
  {
   "cell_type": "markdown",
   "metadata": {},
   "source": [
    "## Output submission file "
   ]
  },
  {
   "cell_type": "code",
   "execution_count": 4,
   "metadata": {},
   "outputs": [
    {
     "ename": "TypeError",
     "evalue": "'NoneType' object is not subscriptable",
     "output_type": "error",
     "traceback": [
      "\u001b[0;31m---------------------------------------------------------------------------\u001b[0m",
      "\u001b[0;31mTypeError\u001b[0m                                 Traceback (most recent call last)",
      "\u001b[0;32m<ipython-input-4-59305c171db1>\u001b[0m in \u001b[0;36m<module>\u001b[0;34m()\u001b[0m\n\u001b[1;32m      1\u001b[0m \u001b[0moutput\u001b[0m \u001b[0;34m=\u001b[0m \u001b[0mwrite_submission_file\u001b[0m\u001b[0;34m(\u001b[0m\u001b[0mX_pred\u001b[0m\u001b[0;34m,\u001b[0m \u001b[0;34m\"submission_average_over_items_0.csv\"\u001b[0m\u001b[0;34m)\u001b[0m\u001b[0;34m\u001b[0m\u001b[0m\n\u001b[0;32m----> 2\u001b[0;31m \u001b[0mprint\u001b[0m\u001b[0;34m(\u001b[0m\u001b[0moutput\u001b[0m\u001b[0;34m[\u001b[0m\u001b[0;36m0\u001b[0m\u001b[0;34m:\u001b[0m\u001b[0;36m100\u001b[0m\u001b[0;34m]\u001b[0m\u001b[0;34m)\u001b[0m\u001b[0;34m\u001b[0m\u001b[0m\n\u001b[0m",
      "\u001b[0;31mTypeError\u001b[0m: 'NoneType' object is not subscriptable"
     ]
    }
   ],
   "source": [
    "output = write_submission_file(X_pred, \"submission_average_over_items_0.csv\")\n",
    "print(output[0:100])"
   ]
  },
  {
   "cell_type": "code",
   "execution_count": null,
   "metadata": {},
   "outputs": [],
   "source": []
  }
 ],
 "metadata": {
  "kernelspec": {
   "display_name": "Python 3",
   "language": "python",
   "name": "python3"
  },
  "language_info": {
   "codemirror_mode": {
    "name": "ipython",
    "version": 3
   },
   "file_extension": ".py",
   "mimetype": "text/x-python",
   "name": "python",
   "nbconvert_exporter": "python",
   "pygments_lexer": "ipython3",
   "version": "3.6.5"
  }
 },
 "nbformat": 4,
 "nbformat_minor": 2
}

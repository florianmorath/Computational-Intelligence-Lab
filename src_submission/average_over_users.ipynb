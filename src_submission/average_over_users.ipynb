{
 "cells": [
  {
   "cell_type": "markdown",
   "metadata": {},
   "source": [
    "# Average over users for each item"
   ]
  },
  {
   "cell_type": "markdown",
   "metadata": {},
   "source": [
    "Idea: impute missing values by taking average rating over users for each item"
   ]
  },
  {
   "cell_type": "code",
   "execution_count": 2,
   "metadata": {},
   "outputs": [],
   "source": [
    "import numpy as np\n",
    "\n",
    "from data_handler import load_data, write_submission_file"
   ]
  },
  {
   "cell_type": "markdown",
   "metadata": {},
   "source": [
    "## Load training data"
   ]
  },
  {
   "cell_type": "code",
   "execution_count": 3,
   "metadata": {},
   "outputs": [
    {
     "name": "stdout",
     "output_type": "stream",
     "text": [
      "[[0. 0. 0. 0. 0. 0. 0. 0. 0. 5.]\n",
      " [0. 0. 0. 3. 0. 5. 0. 4. 0. 0.]\n",
      " [0. 0. 0. 2. 0. 0. 0. 0. 0. 0.]\n",
      " [0. 0. 0. 0. 0. 0. 0. 0. 0. 0.]\n",
      " [0. 2. 0. 0. 0. 5. 0. 3. 0. 0.]\n",
      " [0. 0. 0. 0. 0. 5. 0. 0. 0. 0.]\n",
      " [0. 0. 0. 0. 0. 0. 0. 0. 0. 0.]\n",
      " [0. 0. 0. 0. 0. 0. 0. 0. 0. 0.]\n",
      " [0. 0. 0. 0. 0. 5. 0. 0. 0. 3.]\n",
      " [0. 0. 0. 1. 0. 5. 0. 5. 0. 0.]]\n"
     ]
    }
   ],
   "source": [
    "X = load_data()\n",
    "print(X[0:10,0:10])"
   ]
  },
  {
   "cell_type": "markdown",
   "metadata": {},
   "source": [
    "## For each item, predict its missing entries by the average of that item's available ratings"
   ]
  },
  {
   "cell_type": "code",
   "execution_count": 4,
   "metadata": {},
   "outputs": [
    {
     "name": "stdout",
     "output_type": "stream",
     "text": [
      "[[3.3794117 3.5009415 3.4835858 3.936473  3.5591311 4.68277   3.4466193\n",
      "  3.877497  2.9019608 5.       ]\n",
      " [3.3794117 3.5009415 3.4835858 3.        3.5591311 5.        3.4466193\n",
      "  4.        2.9019608 3.6460717]\n",
      " [3.3794117 3.5009415 3.4835858 2.        3.5591311 4.68277   3.4466193\n",
      "  3.877497  2.9019608 3.6460717]\n",
      " [3.3794117 3.5009415 3.4835858 3.936473  3.5591311 4.68277   3.4466193\n",
      "  3.877497  2.9019608 3.6460717]\n",
      " [3.3794117 2.        3.4835858 3.936473  3.5591311 5.        3.4466193\n",
      "  3.        2.9019608 3.6460717]\n",
      " [3.3794117 3.5009415 3.4835858 3.936473  3.5591311 5.        3.4466193\n",
      "  3.877497  2.9019608 3.6460717]\n",
      " [3.3794117 3.5009415 3.4835858 3.936473  3.5591311 4.68277   3.4466193\n",
      "  3.877497  2.9019608 3.6460717]\n",
      " [3.3794117 3.5009415 3.4835858 3.936473  3.5591311 4.68277   3.4466193\n",
      "  3.877497  2.9019608 3.6460717]\n",
      " [3.3794117 3.5009415 3.4835858 3.936473  3.5591311 5.        3.4466193\n",
      "  3.877497  2.9019608 3.       ]\n",
      " [3.3794117 3.5009415 3.4835858 1.        3.5591311 5.        3.4466193\n",
      "  5.        2.9019608 3.6460717]]\n"
     ]
    }
   ],
   "source": [
    "# y is a vector containg the sums of each item's available ratings\n",
    "y = X.sum(axis=0)\n",
    "rating_counts = np.count_nonzero(X, axis=0)\n",
    "average_per_item = y/rating_counts\n",
    "X_pred = np.copy(X)\n",
    "for column in range(X.shape[1]):\n",
    "    no_rating = (X[:, column] == 0)\n",
    "    X_pred[no_rating, column] = average_per_item[column]\n",
    "print(X_pred[0:10, 0:10])"
   ]
  },
  {
   "cell_type": "markdown",
   "metadata": {},
   "source": [
    "## Output submission file "
   ]
  },
  {
   "cell_type": "code",
   "execution_count": 5,
   "metadata": {},
   "outputs": [
    {
     "ename": "TypeError",
     "evalue": "'NoneType' object is not subscriptable",
     "output_type": "error",
     "traceback": [
      "\u001b[0;31m---------------------------------------------------------------------------\u001b[0m",
      "\u001b[0;31mTypeError\u001b[0m                                 Traceback (most recent call last)",
      "\u001b[0;32m<ipython-input-5-90db326a6903>\u001b[0m in \u001b[0;36m<module>\u001b[0;34m()\u001b[0m\n\u001b[1;32m      1\u001b[0m \u001b[0moutput\u001b[0m \u001b[0;34m=\u001b[0m \u001b[0mwrite_submission_file\u001b[0m\u001b[0;34m(\u001b[0m\u001b[0mX_pred\u001b[0m\u001b[0;34m,\u001b[0m \u001b[0;34m'submission_average_over_users_0.csv'\u001b[0m\u001b[0;34m)\u001b[0m\u001b[0;34m\u001b[0m\u001b[0m\n\u001b[0;32m----> 2\u001b[0;31m \u001b[0mprint\u001b[0m\u001b[0;34m(\u001b[0m\u001b[0moutput\u001b[0m\u001b[0;34m[\u001b[0m\u001b[0;36m0\u001b[0m\u001b[0;34m:\u001b[0m\u001b[0;36m100\u001b[0m\u001b[0;34m]\u001b[0m\u001b[0;34m)\u001b[0m\u001b[0;34m\u001b[0m\u001b[0m\n\u001b[0m",
      "\u001b[0;31mTypeError\u001b[0m: 'NoneType' object is not subscriptable"
     ]
    }
   ],
   "source": [
    "output = write_submission_file(X_pred, 'submission_average_over_users_0.csv')\n",
    "print(output[0:100])"
   ]
  },
  {
   "cell_type": "code",
   "execution_count": null,
   "metadata": {},
   "outputs": [],
   "source": []
  }
 ],
 "metadata": {
  "kernelspec": {
   "display_name": "Python 3",
   "language": "python",
   "name": "python3"
  },
  "language_info": {
   "codemirror_mode": {
    "name": "ipython",
    "version": 3
   },
   "file_extension": ".py",
   "mimetype": "text/x-python",
   "name": "python",
   "nbconvert_exporter": "python",
   "pygments_lexer": "ipython3",
   "version": "3.5.2"
  }
 },
 "nbformat": 4,
 "nbformat_minor": 2
}

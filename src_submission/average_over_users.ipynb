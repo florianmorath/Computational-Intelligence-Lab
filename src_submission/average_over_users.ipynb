{
 "cells": [
  {
   "cell_type": "markdown",
   "metadata": {},
   "source": [
    "# Average over users for each item"
   ]
  },
  {
   "cell_type": "markdown",
   "metadata": {},
   "source": [
    "Idea: impute missing values by taking average rating over users for each item"
   ]
  },
  {
   "cell_type": "code",
   "execution_count": 1,
   "metadata": {},
   "outputs": [],
   "source": [
    "import numpy as np\n",
    "\n",
    "from data_handler import load_train_data, write_submission, get_prediction_ratings_from_matrix"
   ]
  },
  {
   "cell_type": "markdown",
   "metadata": {},
   "source": [
    "## Load training data"
   ]
  },
  {
   "cell_type": "code",
   "execution_count": 2,
   "metadata": {},
   "outputs": [
    {
     "name": "stdout",
     "output_type": "stream",
     "text": [
      "[[0. 0. 0. 0. 0. 0. 0. 0. 0. 5.]\n",
      " [0. 0. 0. 3. 0. 5. 0. 4. 0. 0.]\n",
      " [0. 0. 0. 2. 0. 0. 0. 0. 0. 0.]\n",
      " [0. 0. 0. 0. 0. 0. 0. 0. 0. 0.]\n",
      " [0. 2. 0. 0. 0. 5. 0. 3. 0. 0.]\n",
      " [0. 0. 0. 0. 0. 5. 0. 0. 0. 0.]\n",
      " [0. 0. 0. 0. 0. 0. 0. 0. 0. 0.]\n",
      " [0. 0. 0. 0. 0. 0. 0. 0. 0. 0.]\n",
      " [0. 0. 0. 0. 0. 5. 0. 0. 0. 3.]\n",
      " [0. 0. 0. 1. 0. 5. 0. 5. 0. 0.]]\n"
     ]
    }
   ],
   "source": [
    "X = load_train_data()\n",
    "print(X[0:10,0:10])"
   ]
  },
  {
   "cell_type": "markdown",
   "metadata": {},
   "source": [
    "## For each item, predict its missing entries by the average of that item's available ratings"
   ]
  },
  {
   "cell_type": "code",
   "execution_count": 3,
   "metadata": {},
   "outputs": [
    {
     "name": "stdout",
     "output_type": "stream",
     "text": [
      "[[3.3794117 3.5009415 3.4835858 3.936473  3.5591311 4.68277   3.4466193\n",
      "  3.877497  2.9019608 5.       ]\n",
      " [3.3794117 3.5009415 3.4835858 3.        3.5591311 5.        3.4466193\n",
      "  4.        2.9019608 3.6460717]\n",
      " [3.3794117 3.5009415 3.4835858 2.        3.5591311 4.68277   3.4466193\n",
      "  3.877497  2.9019608 3.6460717]\n",
      " [3.3794117 3.5009415 3.4835858 3.936473  3.5591311 4.68277   3.4466193\n",
      "  3.877497  2.9019608 3.6460717]\n",
      " [3.3794117 2.        3.4835858 3.936473  3.5591311 5.        3.4466193\n",
      "  3.        2.9019608 3.6460717]\n",
      " [3.3794117 3.5009415 3.4835858 3.936473  3.5591311 5.        3.4466193\n",
      "  3.877497  2.9019608 3.6460717]\n",
      " [3.3794117 3.5009415 3.4835858 3.936473  3.5591311 4.68277   3.4466193\n",
      "  3.877497  2.9019608 3.6460717]\n",
      " [3.3794117 3.5009415 3.4835858 3.936473  3.5591311 4.68277   3.4466193\n",
      "  3.877497  2.9019608 3.6460717]\n",
      " [3.3794117 3.5009415 3.4835858 3.936473  3.5591311 5.        3.4466193\n",
      "  3.877497  2.9019608 3.       ]\n",
      " [3.3794117 3.5009415 3.4835858 1.        3.5591311 5.        3.4466193\n",
      "  5.        2.9019608 3.6460717]]\n"
     ]
    }
   ],
   "source": [
    "# y is a vector containg the sums of each item's available ratings\n",
    "y = X.sum(axis=0)\n",
    "rating_counts = np.count_nonzero(X, axis=0)\n",
    "average_per_item = y/rating_counts\n",
    "X_pred = np.copy(X)\n",
    "for column in range(X.shape[1]):\n",
    "    no_rating = (X[:, column] == 0)\n",
    "    X_pred[no_rating, column] = average_per_item[column]\n",
    "print(X_pred[0:10, 0:10])"
   ]
  },
  {
   "cell_type": "markdown",
   "metadata": {},
   "source": [
    "## Output submission file "
   ]
  },
  {
   "cell_type": "code",
   "execution_count": 4,
   "metadata": {},
   "outputs": [],
   "source": [
    "ratings = get_prediction_ratings_from_matrix(X_pred)\n",
    "write_submission(ratings, 'submission_average_over_users_0.csv')"
   ]
  },
  {
   "cell_type": "code",
   "execution_count": null,
   "metadata": {},
   "outputs": [],
   "source": []
  }
 ],
 "metadata": {
  "kernelspec": {
   "display_name": "Python 3",
   "language": "python",
   "name": "python3"
  },
  "language_info": {
   "codemirror_mode": {
    "name": "ipython",
    "version": 3
   },
   "file_extension": ".py",
   "mimetype": "text/x-python",
   "name": "python",
   "nbconvert_exporter": "python",
   "pygments_lexer": "ipython3",
   "version": "3.6.5"
  }
 },
 "nbformat": 4,
 "nbformat_minor": 2
}
